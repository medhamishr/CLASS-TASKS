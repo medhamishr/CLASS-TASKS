{
 "cells": [
  {
   "cell_type": "code",
   "execution_count": 2,
   "id": "7d3af16b",
   "metadata": {},
   "outputs": [],
   "source": [
    "l =[1,2,3,4,5,\"MEDHA\", \"sudh\", 13.94]"
   ]
  },
  {
   "cell_type": "code",
   "execution_count": 3,
   "id": "16c6385a",
   "metadata": {},
   "outputs": [
    {
     "name": "stdout",
     "output_type": "stream",
     "text": [
      "1\n",
      "2\n",
      "3\n",
      "4\n",
      "5\n",
      "MEDHA\n",
      "sudh\n",
      "13.94\n"
     ]
    }
   ],
   "source": [
    "for i in l :\n",
    "    print (i)"
   ]
  },
  {
   "cell_type": "code",
   "execution_count": 5,
   "id": "ebee20f1",
   "metadata": {},
   "outputs": [
    {
     "ename": "IndentationError",
     "evalue": "expected an indented block (1924942804.py, line 3)",
     "output_type": "error",
     "traceback": [
      "\u001b[0;36m  Input \u001b[0;32mIn [5]\u001b[0;36m\u001b[0m\n\u001b[0;31m    for i in l:\u001b[0m\n\u001b[0m               ^\u001b[0m\n\u001b[0;31mIndentationError\u001b[0m\u001b[0;31m:\u001b[0m expected an indented block\n"
     ]
    }
   ],
   "source": [
    "# body of for loop can never be empty:\n",
    "\n",
    "for i in l:"
   ]
  },
  {
   "cell_type": "code",
   "execution_count": 6,
   "id": "2286f148",
   "metadata": {},
   "outputs": [],
   "source": [
    "for i in l :\n",
    "    pass"
   ]
  },
  {
   "cell_type": "code",
   "execution_count": 7,
   "id": "cef504e1",
   "metadata": {},
   "outputs": [
    {
     "name": "stdout",
     "output_type": "stream",
     "text": [
      "m\n",
      "e\n",
      "d\n",
      "h\n",
      "u\n"
     ]
    }
   ],
   "source": [
    "s = 'medhu'\n",
    "for i in (s):\n",
    "    print (i)"
   ]
  },
  {
   "cell_type": "code",
   "execution_count": 8,
   "id": "da3308d8",
   "metadata": {},
   "outputs": [
    {
     "data": {
      "text/plain": [
       "[1, 2, 3, 4, 5, 'MEDHA', 'sudh', 13.94]"
      ]
     },
     "execution_count": 8,
     "metadata": {},
     "output_type": "execute_result"
    }
   ],
   "source": [
    "l"
   ]
  },
  {
   "cell_type": "code",
   "execution_count": 10,
   "id": "94bf4f52",
   "metadata": {},
   "outputs": [
    {
     "name": "stdout",
     "output_type": "stream",
     "text": [
      "1\n",
      "2\n",
      "3\n",
      "4\n",
      "5\n",
      "MEDHA\n",
      "sudh\n",
      "13.94\n",
      "loop completes\n"
     ]
    }
   ],
   "source": [
    "for i in l:\n",
    "    print(i)\n",
    "else :\n",
    "    print(\"loop completes\")"
   ]
  },
  {
   "cell_type": "code",
   "execution_count": 13,
   "id": "b17d5a93",
   "metadata": {},
   "outputs": [
    {
     "name": "stdout",
     "output_type": "stream",
     "text": [
      "1\n",
      "2\n",
      "3\n"
     ]
    }
   ],
   "source": [
    "# else excutes only when for loop exhaust itself otherwise never\n",
    "\n",
    "for i in l:\n",
    "    if i==4:\n",
    "        break\n",
    "    print(i)\n",
    "else :\n",
    "    print (\"excute only if for loop exhaust\")\n",
    "        "
   ]
  },
  {
   "cell_type": "code",
   "execution_count": 17,
   "id": "eb94034a",
   "metadata": {},
   "outputs": [
    {
     "name": "stdout",
     "output_type": "stream",
     "text": [
      "m\n",
      "e\n",
      "d\n"
     ]
    }
   ],
   "source": [
    "s = \"medha\"\n",
    "for i in s :\n",
    "    if i ==\"h\" :\n",
    "        break\n",
    "    print(i)\n",
    "else :\n",
    "    print(\"not exhausted\")\n",
    "    "
   ]
  },
  {
   "cell_type": "code",
   "execution_count": 18,
   "id": "6fafda78",
   "metadata": {},
   "outputs": [
    {
     "name": "stdout",
     "output_type": "stream",
     "text": [
      "m\n",
      "e\n",
      "d\n",
      "h\n",
      "a\n",
      "not exhausted\n"
     ]
    }
   ],
   "source": [
    "s = \"medha\"\n",
    "for i in s :\n",
    "    if i ==\"z\" :\n",
    "        break\n",
    "    print(i)\n",
    "else :\n",
    "    print(\"not exhausted\")\n",
    "    "
   ]
  },
  {
   "cell_type": "code",
   "execution_count": 20,
   "id": "a528f9ed",
   "metadata": {},
   "outputs": [
    {
     "name": "stdout",
     "output_type": "stream",
     "text": [
      "4\n",
      "5\n",
      "6\n",
      "7\n",
      "6\n",
      "8\n",
      "9\n",
      "medha\n"
     ]
    }
   ],
   "source": [
    "t = (4,5,6,7,6,8,9, \"medha\")\n",
    "for i in t:\n",
    "    print (i)"
   ]
  },
  {
   "cell_type": "code",
   "execution_count": 21,
   "id": "47612076",
   "metadata": {},
   "outputs": [],
   "source": [
    "b = {4,45,56,6,7,7,8,8,9,\"medha\"}"
   ]
  },
  {
   "cell_type": "code",
   "execution_count": 22,
   "id": "211e3aa5",
   "metadata": {},
   "outputs": [
    {
     "data": {
      "text/plain": [
       "set"
      ]
     },
     "execution_count": 22,
     "metadata": {},
     "output_type": "execute_result"
    }
   ],
   "source": [
    "type(b)"
   ]
  },
  {
   "cell_type": "code",
   "execution_count": 23,
   "id": "3062faef",
   "metadata": {},
   "outputs": [
    {
     "data": {
      "text/plain": [
       "{4, 45, 56, 6, 7, 8, 9, 'medha'}"
      ]
     },
     "execution_count": 23,
     "metadata": {},
     "output_type": "execute_result"
    }
   ],
   "source": [
    "b"
   ]
  },
  {
   "cell_type": "code",
   "execution_count": 24,
   "id": "01b354d3",
   "metadata": {},
   "outputs": [
    {
     "name": "stdout",
     "output_type": "stream",
     "text": [
      "4\n",
      "6\n",
      "7\n",
      "8\n",
      "9\n",
      "45\n",
      "56\n",
      "medha\n"
     ]
    }
   ],
   "source": [
    "for i in b:\n",
    "    print (i)"
   ]
  },
  {
   "cell_type": "code",
   "execution_count": 25,
   "id": "d6f338f5",
   "metadata": {},
   "outputs": [],
   "source": [
    "d = {'key1': \"medha\", \"contact\": \"8998\", \"lol\": \"cool\"}"
   ]
  },
  {
   "cell_type": "code",
   "execution_count": 32,
   "id": "19cbd443",
   "metadata": {},
   "outputs": [
    {
     "name": "stdout",
     "output_type": "stream",
     "text": [
      "key1 : medha\n",
      "contact : 8998\n",
      "lol : cool\n"
     ]
    }
   ],
   "source": [
    "for i in d :\n",
    "    print(i,\":\",d[i])"
   ]
  },
  {
   "cell_type": "code",
   "execution_count": 33,
   "id": "8d3f9d5a",
   "metadata": {},
   "outputs": [],
   "source": [
    " m = \"sudh\""
   ]
  },
  {
   "cell_type": "code",
   "execution_count": 43,
   "id": "80070ef7",
   "metadata": {},
   "outputs": [
    {
     "name": "stdout",
     "output_type": "stream",
     "text": [
      "sudh\n",
      "sudh\n",
      "sudh\n",
      "sudh\n"
     ]
    }
   ],
   "source": [
    "for i in m:\n",
    "    print (m)"
   ]
  },
  {
   "cell_type": "code",
   "execution_count": 44,
   "id": "d495423f",
   "metadata": {},
   "outputs": [
    {
     "data": {
      "text/plain": [
       "range(0, 9)"
      ]
     },
     "execution_count": 44,
     "metadata": {},
     "output_type": "execute_result"
    }
   ],
   "source": [
    "range(9)"
   ]
  },
  {
   "cell_type": "code",
   "execution_count": 45,
   "id": "a3dd0072",
   "metadata": {},
   "outputs": [
    {
     "data": {
      "text/plain": [
       "[0, 1, 2, 3, 4, 5, 6, 7, 8]"
      ]
     },
     "execution_count": 45,
     "metadata": {},
     "output_type": "execute_result"
    }
   ],
   "source": [
    "list(range(9))"
   ]
  },
  {
   "cell_type": "code",
   "execution_count": 48,
   "id": "887e8c18",
   "metadata": {},
   "outputs": [
    {
     "data": {
      "text/plain": [
       "[0, 2, 4, 6, 8]"
      ]
     },
     "execution_count": 48,
     "metadata": {},
     "output_type": "execute_result"
    }
   ],
   "source": [
    "list(range(0,9,2))"
   ]
  },
  {
   "cell_type": "code",
   "execution_count": 50,
   "id": "c76b5c77",
   "metadata": {},
   "outputs": [
    {
     "data": {
      "text/plain": [
       "[]"
      ]
     },
     "execution_count": 50,
     "metadata": {},
     "output_type": "execute_result"
    }
   ],
   "source": [
    "list(range(0,9,-1))"
   ]
  },
  {
   "cell_type": "code",
   "execution_count": 51,
   "id": "6d1c5805",
   "metadata": {},
   "outputs": [
    {
     "data": {
      "text/plain": [
       "[9, 8, 7, 6, 5, 4, 3, 2, 1]"
      ]
     },
     "execution_count": 51,
     "metadata": {},
     "output_type": "execute_result"
    }
   ],
   "source": [
    "list(range(9,0,-1))"
   ]
  },
  {
   "cell_type": "code",
   "execution_count": 57,
   "id": "9e06b400",
   "metadata": {},
   "outputs": [
    {
     "name": "stdout",
     "output_type": "stream",
     "text": [
      "sudh \n",
      "\n",
      "sudh sudh \n",
      "\n",
      "sudh sudh sudh \n",
      "\n",
      "sudh sudh sudh sudh \n",
      "\n"
     ]
    }
   ],
   "source": [
    "for i in range(4):\n",
    "    for j in range(0,i+1):\n",
    "        print (\"sudh\", end= \" \")\n",
    "    print(\"\\n\")"
   ]
  },
  {
   "cell_type": "code",
   "execution_count": 71,
   "id": "153f3a71",
   "metadata": {},
   "outputs": [
    {
     "name": "stdout",
     "output_type": "stream",
     "text": [
      "\t sudh \n",
      "\n",
      "\t sudh \t sudh \n",
      "\n",
      "\t sudh \t sudh \t sudh \n",
      "\n"
     ]
    }
   ],
   "source": [
    "for i in range(3):\n",
    "    for j in range (0, i+1):\n",
    "        print (\"\\t\", \"sudh\", end =\" \")\n",
    "    print(\"\\n\")\n",
    "   "
   ]
  },
  {
   "cell_type": "code",
   "execution_count": 73,
   "id": "0dbc4f9a",
   "metadata": {},
   "outputs": [
    {
     "name": "stdout",
     "output_type": "stream",
     "text": [
      "Enter number of rows: 3\n",
      "    sudh \n",
      "  sudh sudh \n",
      "sudh sudh sudh \n"
     ]
    }
   ],
   "source": [
    "rows = int(input(\"Enter number of rows: \"))\n",
    "coef = 'sudh'\n",
    "\n",
    "for i in range(1, rows+1): #why is lower bound 1? and not 0\n",
    "    for space in range(1, rows-i+1):\n",
    "        print(\" \",end=\" \")\n",
    "    for j in range(0, i):\n",
    "        print(coef, end = \" \")\n",
    "    print()"
   ]
  },
  {
   "cell_type": "code",
   "execution_count": 74,
   "id": "e43e841b",
   "metadata": {},
   "outputs": [],
   "source": [
    "t =(3,23,45,67,2,4,5,6)"
   ]
  },
  {
   "cell_type": "code",
   "execution_count": 80,
   "id": "076bc65c",
   "metadata": {},
   "outputs": [
    {
     "name": "stdout",
     "output_type": "stream",
     "text": [
      "0 3\n",
      "1 23\n",
      "2 45\n",
      "3 67\n",
      "4 2\n",
      "5 4\n",
      "6 5\n",
      "7 6\n"
     ]
    }
   ],
   "source": [
    "for i in t:\n",
    "    print(t.index(i), i)"
   ]
  },
  {
   "cell_type": "code",
   "execution_count": 78,
   "id": "cf2a36fd",
   "metadata": {},
   "outputs": [
    {
     "data": {
      "text/plain": [
       "0"
      ]
     },
     "execution_count": 78,
     "metadata": {},
     "output_type": "execute_result"
    }
   ],
   "source": [
    "t.index(3)"
   ]
  },
  {
   "cell_type": "code",
   "execution_count": 86,
   "id": "32683b49",
   "metadata": {},
   "outputs": [
    {
     "name": "stdout",
     "output_type": "stream",
     "text": [
      "0 i\n",
      "1 n\n",
      "2 e\n",
      "3 u\n",
      "4 r\n",
      "5 o\n",
      "1 n\n"
     ]
    }
   ],
   "source": [
    "s = \"ineuron\"\n",
    "\n",
    "for i in s:\n",
    "    print(s.index(i), i)"
   ]
  },
  {
   "cell_type": "code",
   "execution_count": 87,
   "id": "105e2112",
   "metadata": {},
   "outputs": [
    {
     "data": {
      "text/plain": [
       "(3, 23, 45, 67, 2, 4, 5, 6)"
      ]
     },
     "execution_count": 87,
     "metadata": {},
     "output_type": "execute_result"
    }
   ],
   "source": [
    "t"
   ]
  },
  {
   "cell_type": "code",
   "execution_count": 91,
   "id": "5d6cff6c",
   "metadata": {},
   "outputs": [
    {
     "name": "stdout",
     "output_type": "stream",
     "text": [
      "0 3\n",
      "1 23\n",
      "2 45\n",
      "3 67\n",
      "4 2\n",
      "5 4\n",
      "6 5\n",
      "7 6\n"
     ]
    }
   ],
   "source": [
    "for i in range(len(t)):\n",
    "    print(i,t[i])"
   ]
  },
  {
   "cell_type": "code",
   "execution_count": 92,
   "id": "997ef574",
   "metadata": {},
   "outputs": [],
   "source": [
    "s = \"ineuron\""
   ]
  },
  {
   "cell_type": "code",
   "execution_count": 106,
   "id": "6134aa50",
   "metadata": {},
   "outputs": [
    {
     "name": "stdout",
     "output_type": "stream",
     "text": [
      "0 i\n",
      "1 n\n",
      "2 e\n",
      "3 u\n",
      "4 r\n",
      "5 o\n",
      "6 n\n"
     ]
    }
   ],
   "source": [
    "for i in range(len(s)):\n",
    "    print(i,s[i])"
   ]
  },
  {
   "cell_type": "code",
   "execution_count": 152,
   "id": "378849c8",
   "metadata": {},
   "outputs": [
    {
     "data": {
      "text/plain": [
       "range(0, 7)"
      ]
     },
     "execution_count": 152,
     "metadata": {},
     "output_type": "execute_result"
    }
   ],
   "source": [
    "range(len(s))"
   ]
  },
  {
   "cell_type": "code",
   "execution_count": 155,
   "id": "67063fb8",
   "metadata": {},
   "outputs": [
    {
     "data": {
      "text/plain": [
       "[6, 5, 4, 3, 2, 1, 0]"
      ]
     },
     "execution_count": 155,
     "metadata": {},
     "output_type": "execute_result"
    }
   ],
   "source": [
    "list(range(len(s)-1,-1,-1))"
   ]
  },
  {
   "cell_type": "code",
   "execution_count": 190,
   "id": "dff95c0e",
   "metadata": {},
   "outputs": [
    {
     "name": "stdout",
     "output_type": "stream",
     "text": [
      "6 n\n",
      "5 o\n",
      "4 r\n",
      "3 u\n",
      "2 e\n",
      "1 n\n",
      "0 i\n"
     ]
    }
   ],
   "source": [
    "for i in range(len(s)-1,-1,-1):\n",
    "    print (i, s[i])"
   ]
  },
  {
   "cell_type": "code",
   "execution_count": 158,
   "id": "abe2cbdd",
   "metadata": {},
   "outputs": [],
   "source": [
    "m = \"medha mishra\""
   ]
  },
  {
   "cell_type": "code",
   "execution_count": 164,
   "id": "17aa163a",
   "metadata": {},
   "outputs": [
    {
     "data": {
      "text/plain": [
       "[11, 10, 9, 8, 7, 6, 5, 4, 3, 2, 1, 0]"
      ]
     },
     "execution_count": 164,
     "metadata": {},
     "output_type": "execute_result"
    }
   ],
   "source": [
    "list(range(len(m)-1,-1,-1))"
   ]
  },
  {
   "cell_type": "code",
   "execution_count": 166,
   "id": "9f157094",
   "metadata": {},
   "outputs": [
    {
     "name": "stdout",
     "output_type": "stream",
     "text": [
      "11 a\n",
      "10 r\n",
      "9 h\n",
      "8 s\n",
      "7 i\n",
      "6 m\n",
      "5  \n",
      "4 a\n",
      "3 h\n",
      "2 d\n",
      "1 e\n",
      "0 m\n"
     ]
    }
   ],
   "source": [
    "for i in list(range(len(m)-1,-1,-1)):\n",
    "    print(i, m[i])"
   ]
  },
  {
   "cell_type": "code",
   "execution_count": 167,
   "id": "1e0af5e9",
   "metadata": {},
   "outputs": [
    {
     "data": {
      "text/plain": [
       "'medha mishra'"
      ]
     },
     "execution_count": 167,
     "metadata": {},
     "output_type": "execute_result"
    }
   ],
   "source": [
    "m"
   ]
  },
  {
   "cell_type": "code",
   "execution_count": 171,
   "id": "4a29d850",
   "metadata": {},
   "outputs": [
    {
     "data": {
      "text/plain": [
       "[0, 1, 2, 3, 4, 5, 6, 7, 8, 9, 10, 11]"
      ]
     },
     "execution_count": 171,
     "metadata": {},
     "output_type": "execute_result"
    }
   ],
   "source": [
    "list(range(len(m)))"
   ]
  },
  {
   "cell_type": "code",
   "execution_count": 179,
   "id": "4322d8f6",
   "metadata": {},
   "outputs": [
    {
     "ename": "IndexError",
     "evalue": "string index out of range",
     "output_type": "error",
     "traceback": [
      "\u001b[0;31m---------------------------------------------------------------------------\u001b[0m",
      "\u001b[0;31mIndexError\u001b[0m                                Traceback (most recent call last)",
      "Input \u001b[0;32mIn [179]\u001b[0m, in \u001b[0;36m<cell line: 1>\u001b[0;34m()\u001b[0m\n\u001b[1;32m      1\u001b[0m \u001b[38;5;28;01mfor\u001b[39;00m i \u001b[38;5;129;01min\u001b[39;00m \u001b[38;5;28mrange\u001b[39m(\u001b[38;5;28mlen\u001b[39m(m),\u001b[38;5;241m-\u001b[39m\u001b[38;5;241m1\u001b[39m,\u001b[38;5;241m-\u001b[39m\u001b[38;5;241m1\u001b[39m):\n\u001b[0;32m----> 2\u001b[0m     \u001b[38;5;28mprint\u001b[39m (i, \u001b[43mm\u001b[49m\u001b[43m[\u001b[49m\u001b[43mi\u001b[49m\u001b[43m]\u001b[49m)\n",
      "\u001b[0;31mIndexError\u001b[0m: string index out of range"
     ]
    }
   ],
   "source": [
    "for i in range(len(m),-1,-1):\n",
    "    print (i, m[i])"
   ]
  },
  {
   "cell_type": "code",
   "execution_count": 180,
   "id": "cbcab0ff",
   "metadata": {},
   "outputs": [
    {
     "data": {
      "text/plain": [
       "'ineuron'"
      ]
     },
     "execution_count": 180,
     "metadata": {},
     "output_type": "execute_result"
    }
   ],
   "source": [
    "s"
   ]
  },
  {
   "cell_type": "code",
   "execution_count": 183,
   "id": "5d39db71",
   "metadata": {},
   "outputs": [
    {
     "data": {
      "text/plain": [
       "[0, 1, 2, 3, 4, 5, 6]"
      ]
     },
     "execution_count": 183,
     "metadata": {},
     "output_type": "execute_result"
    }
   ],
   "source": [
    "list(range(len(s)))"
   ]
  },
  {
   "cell_type": "code",
   "execution_count": 185,
   "id": "d1bc585c",
   "metadata": {},
   "outputs": [
    {
     "data": {
      "text/plain": [
       "[7, 6, 5, 4, 3, 2, 1]"
      ]
     },
     "execution_count": 185,
     "metadata": {},
     "output_type": "execute_result"
    }
   ],
   "source": [
    "list(range(len(s),0,-1))"
   ]
  },
  {
   "cell_type": "code",
   "execution_count": 191,
   "id": "deaf3e18",
   "metadata": {},
   "outputs": [
    {
     "data": {
      "text/plain": [
       "{'key1': 'medha', 'contact': '8998', 'lol': 'cool'}"
      ]
     },
     "execution_count": 191,
     "metadata": {},
     "output_type": "execute_result"
    }
   ],
   "source": [
    "d"
   ]
  },
  {
   "cell_type": "code",
   "execution_count": 205,
   "id": "03811465",
   "metadata": {},
   "outputs": [
    {
     "data": {
      "text/plain": [
       "dict_items([('key1', 'medha'), ('contact', '8998'), ('lol', 'cool')])"
      ]
     },
     "execution_count": 205,
     "metadata": {},
     "output_type": "execute_result"
    }
   ],
   "source": [
    "d.items()\n"
   ]
  },
  {
   "cell_type": "code",
   "execution_count": 208,
   "id": "9648bc42",
   "metadata": {},
   "outputs": [
    {
     "name": "stdout",
     "output_type": "stream",
     "text": [
      "('key1', 'medha') <class 'tuple'> <class 'str'>\n",
      "('contact', '8998') <class 'tuple'> <class 'str'>\n",
      "('lol', 'cool') <class 'tuple'> <class 'str'>\n"
     ]
    }
   ],
   "source": [
    "for i in d.items() :\n",
    "    print(i, type(i), type(i[1]))"
   ]
  },
  {
   "cell_type": "code",
   "execution_count": 215,
   "id": "23efcee5",
   "metadata": {},
   "outputs": [],
   "source": [
    "l =[\"sudh\", \"kumar\", 32442563, \"sudhanshu@ineuron.ai\", 3435, 673676]"
   ]
  },
  {
   "cell_type": "code",
   "execution_count": 216,
   "id": "0f1efe18",
   "metadata": {},
   "outputs": [
    {
     "data": {
      "text/plain": [
       "['sudh', 'kumar', 32442563, 'sudhanshu@ineuron.ai', 3435, 673676]"
      ]
     },
     "execution_count": 216,
     "metadata": {},
     "output_type": "execute_result"
    }
   ],
   "source": [
    "l"
   ]
  },
  {
   "cell_type": "code",
   "execution_count": 227,
   "id": "d1898a55",
   "metadata": {},
   "outputs": [],
   "source": [
    "m=[]"
   ]
  },
  {
   "cell_type": "code",
   "execution_count": 231,
   "id": "47b0ca3b",
   "metadata": {},
   "outputs": [],
   "source": [
    "for i in l:\n",
    "    if type(i)==int:\n",
    "        m.append(i)\n",
    "    "
   ]
  },
  {
   "cell_type": "code",
   "execution_count": 232,
   "id": "65d2d358",
   "metadata": {},
   "outputs": [
    {
     "data": {
      "text/plain": [
       "[32442563, 3435, 673676]"
      ]
     },
     "execution_count": 232,
     "metadata": {},
     "output_type": "execute_result"
    }
   ],
   "source": [
    "m"
   ]
  },
  {
   "cell_type": "code",
   "execution_count": 233,
   "id": "26bda6d5",
   "metadata": {},
   "outputs": [],
   "source": [
    "d= {1:3463846, \"name\": \"sudhanshu\", \"email\": \"sudhanshu@ai.ie\", 234:\"gbr\", \"43\":\"ddh\", 234 :\"3453\"}"
   ]
  },
  {
   "cell_type": "code",
   "execution_count": 244,
   "id": "aa5c053d",
   "metadata": {},
   "outputs": [
    {
     "name": "stdout",
     "output_type": "stream",
     "text": [
      "1 3463846\n",
      "234 3453\n"
     ]
    }
   ],
   "source": [
    "for i in d:\n",
    "    if type(i)==(int):\n",
    "        print(i,d[i])"
   ]
  },
  {
   "cell_type": "code",
   "execution_count": 245,
   "id": "475ceb88",
   "metadata": {},
   "outputs": [],
   "source": [
    "s = 'aaaabbccd'\n",
    "    "
   ]
  },
  {
   "cell_type": "code",
   "execution_count": 249,
   "id": "2bdad15e",
   "metadata": {},
   "outputs": [
    {
     "data": {
      "text/plain": [
       "4"
      ]
     },
     "execution_count": 249,
     "metadata": {},
     "output_type": "execute_result"
    }
   ],
   "source": [
    "s.count(\"a\")"
   ]
  },
  {
   "cell_type": "code",
   "execution_count": 256,
   "id": "fa7b0125",
   "metadata": {},
   "outputs": [
    {
     "data": {
      "text/plain": [
       "{'a', 'b', 'c', 'd'}"
      ]
     },
     "execution_count": 256,
     "metadata": {},
     "output_type": "execute_result"
    }
   ],
   "source": [
    "set(s)"
   ]
  },
  {
   "cell_type": "code",
   "execution_count": 260,
   "id": "cff76051",
   "metadata": {},
   "outputs": [
    {
     "name": "stdout",
     "output_type": "stream",
     "text": [
      "d : 1\n",
      "b : 2\n",
      "c : 2\n",
      "a : 4\n"
     ]
    }
   ],
   "source": [
    "for i in set(s):\n",
    "    print(i, \":\",s.count(i) )"
   ]
  },
  {
   "cell_type": "code",
   "execution_count": 269,
   "id": "8b976bce",
   "metadata": {},
   "outputs": [],
   "source": [
    "i = 345634647837384785"
   ]
  },
  {
   "cell_type": "code",
   "execution_count": 278,
   "id": "9f6498bb",
   "metadata": {},
   "outputs": [
    {
     "name": "stdout",
     "output_type": "stream",
     "text": [
      "3 <class 'int'>\n",
      "4 <class 'int'>\n",
      "5 <class 'int'>\n",
      "6 <class 'int'>\n",
      "3 <class 'int'>\n",
      "4 <class 'int'>\n",
      "6 <class 'int'>\n",
      "4 <class 'int'>\n",
      "7 <class 'int'>\n",
      "8 <class 'int'>\n",
      "3 <class 'int'>\n",
      "7 <class 'int'>\n",
      "3 <class 'int'>\n",
      "8 <class 'int'>\n",
      "4 <class 'int'>\n",
      "7 <class 'int'>\n",
      "8 <class 'int'>\n",
      "5 <class 'int'>\n"
     ]
    }
   ],
   "source": [
    "for j in i:\n",
    "    print(int(j), type(int(j)))"
   ]
  },
  {
   "cell_type": "code",
   "execution_count": 273,
   "id": "5e83c09e",
   "metadata": {},
   "outputs": [],
   "source": [
    "i = str(i)"
   ]
  },
  {
   "cell_type": "code",
   "execution_count": 298,
   "id": "03e78c58",
   "metadata": {},
   "outputs": [],
   "source": [
    "t = (\"sudh\",\"kumar\",[1,2,3,4,5], (3,4,5,6), {3: 3, \"key2\": \"kumar})\"})"
   ]
  },
  {
   "cell_type": "code",
   "execution_count": 286,
   "id": "ab05253b",
   "metadata": {},
   "outputs": [
    {
     "data": {
      "text/plain": [
       "3"
      ]
     },
     "execution_count": 286,
     "metadata": {},
     "output_type": "execute_result"
    }
   ],
   "source": [
    "t[2][2]"
   ]
  },
  {
   "cell_type": "code",
   "execution_count": 287,
   "id": "ad2c97be",
   "metadata": {},
   "outputs": [
    {
     "data": {
      "text/plain": [
       "3"
      ]
     },
     "execution_count": 287,
     "metadata": {},
     "output_type": "execute_result"
    }
   ],
   "source": [
    "t[3][0]"
   ]
  },
  {
   "cell_type": "code",
   "execution_count": 311,
   "id": "9ee6f44d",
   "metadata": {},
   "outputs": [
    {
     "name": "stdout",
     "output_type": "stream",
     "text": [
      "3\n",
      "3\n",
      "3 3\n"
     ]
    }
   ],
   "source": [
    " for i in t:\n",
    "        if type(i)== list or type(i)==tuple :\n",
    "            for j in i :\n",
    "                if j==3:\n",
    "                    print(j)\n",
    "        if type(i)== dict:\n",
    "            for k,v in i.items():\n",
    "                if k==3 or v==3:\n",
    "                    print(k,v)\n",
    "                "
   ]
  },
  {
   "cell_type": "code",
   "execution_count": 290,
   "id": "aaa8634c",
   "metadata": {},
   "outputs": [
    {
     "data": {
      "text/plain": [
       "('sudh',\n",
       " 'kumar',\n",
       " [1, 2, 3, 4, 5],\n",
       " (3, 4, 5, 6),\n",
       " {'key1': 'sudh', 'key2': 'kumar})'})"
      ]
     },
     "execution_count": 290,
     "metadata": {},
     "output_type": "execute_result"
    }
   ],
   "source": [
    "t"
   ]
  },
  {
   "cell_type": "code",
   "execution_count": null,
   "id": "dfd40e70",
   "metadata": {},
   "outputs": [],
   "source": []
  }
 ],
 "metadata": {
  "kernelspec": {
   "display_name": "Python 3 (ipykernel)",
   "language": "python",
   "name": "python3"
  },
  "language_info": {
   "codemirror_mode": {
    "name": "ipython",
    "version": 3
   },
   "file_extension": ".py",
   "mimetype": "text/x-python",
   "name": "python",
   "nbconvert_exporter": "python",
   "pygments_lexer": "ipython3",
   "version": "3.9.12"
  }
 },
 "nbformat": 4,
 "nbformat_minor": 5
}
