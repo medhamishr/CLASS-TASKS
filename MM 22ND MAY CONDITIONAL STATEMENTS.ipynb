{
 "cells": [
  {
   "cell_type": "code",
   "execution_count": 3,
   "id": "c9c34869",
   "metadata": {},
   "outputs": [
    {
     "name": "stdout",
     "output_type": "stream",
     "text": [
      "this is my first condition\n"
     ]
    }
   ],
   "source": [
    "a = 10\n",
    "if a==10 :\n",
    "    print(\"this is my first condition\")"
   ]
  },
  {
   "cell_type": "code",
   "execution_count": 7,
   "id": "9089eb59",
   "metadata": {},
   "outputs": [],
   "source": [
    "a =  10\n",
    "if a > 5 :\n",
    "    pass"
   ]
  },
  {
   "cell_type": "code",
   "execution_count": 9,
   "id": "d3796174",
   "metadata": {},
   "outputs": [],
   "source": [
    "a = 10\n",
    "if a < 8 :\n",
    "    print(\"print if this is true\")"
   ]
  },
  {
   "cell_type": "code",
   "execution_count": 16,
   "id": "c8500fcb",
   "metadata": {},
   "outputs": [
    {
     "name": "stdout",
     "output_type": "stream",
     "text": [
      "true\n"
     ]
    }
   ],
   "source": [
    "a =10\n",
    "if a !=11 :\n",
    "    print(\"true\")\n",
    "else :\n",
    "        print(\"false\")"
   ]
  },
  {
   "cell_type": "code",
   "execution_count": 17,
   "id": "628082b0",
   "metadata": {},
   "outputs": [
    {
     "name": "stdout",
     "output_type": "stream",
     "text": [
      "false\n"
     ]
    }
   ],
   "source": [
    "a =10\n",
    "if a ==11 :\n",
    "    print(\"true\")\n",
    "else :\n",
    "        print(\"false\")"
   ]
  },
  {
   "cell_type": "code",
   "execution_count": 18,
   "id": "04a208a7",
   "metadata": {},
   "outputs": [
    {
     "name": "stdout",
     "output_type": "stream",
     "text": [
      "all good\n"
     ]
    }
   ],
   "source": [
    "a = 10\n",
    "if a==12 :\n",
    "    print(\"hello\")\n",
    "elif a==11 :\n",
    "    print (\"bye\")\n",
    "else :\n",
    "    print(\"all good\")"
   ]
  },
  {
   "cell_type": "code",
   "execution_count": 19,
   "id": "96cdb559",
   "metadata": {},
   "outputs": [
    {
     "name": "stdout",
     "output_type": "stream",
     "text": [
      "bye\n"
     ]
    }
   ],
   "source": [
    "a = 10\n",
    "if a==12 :\n",
    "    print(\"hello\")\n",
    "elif a==10 :\n",
    "    print (\"bye\")\n",
    "else :\n",
    "    print(\"all good\")"
   ]
  },
  {
   "cell_type": "code",
   "execution_count": 20,
   "id": "23c7fe44",
   "metadata": {},
   "outputs": [],
   "source": [
    "price = 999\n",
    "if price > 999 :\n",
    "    print(\"dont buy\")\n",
    "elif price <999 :\n",
    "    print(\"buy\")"
   ]
  },
  {
   "cell_type": "code",
   "execution_count": 21,
   "id": "7725ccf3",
   "metadata": {},
   "outputs": [
    {
     "name": "stdout",
     "output_type": "stream",
     "text": [
      "buy\n"
     ]
    }
   ],
   "source": [
    "price = 999\n",
    "if price > 999 :\n",
    "    print(\"dont buy\")\n",
    "elif price <=999 :\n",
    "    print(\"buy\")"
   ]
  },
  {
   "cell_type": "code",
   "execution_count": 22,
   "id": "dbe9ac18",
   "metadata": {},
   "outputs": [
    {
     "ename": "SyntaxError",
     "evalue": "invalid syntax (2852741617.py, line 6)",
     "output_type": "error",
     "traceback": [
      "\u001b[0;36m  Input \u001b[0;32mIn [22]\u001b[0;36m\u001b[0m\n\u001b[0;31m    else price == 999 :\u001b[0m\n\u001b[0m         ^\u001b[0m\n\u001b[0;31mSyntaxError\u001b[0m\u001b[0;31m:\u001b[0m invalid syntax\n"
     ]
    }
   ],
   "source": [
    "price = 999\n",
    "if price > 999 :\n",
    "    print(\"dont buy\")\n",
    "elif price <=999 :\n",
    "    print(\"buy\")\n",
    "else price == 999 :\n",
    "    print(\"lol\")"
   ]
  },
  {
   "cell_type": "code",
   "execution_count": 23,
   "id": "2fd6486b",
   "metadata": {},
   "outputs": [
    {
     "name": "stdout",
     "output_type": "stream",
     "text": [
      "for sure buy\n"
     ]
    }
   ],
   "source": [
    "price = 999\n",
    "if price > 999 :\n",
    "    print(\"dont buy\")\n",
    "elif price <999 :\n",
    "    print(\"buy\")\n",
    "elif price == 999 :\n",
    "    print (\"for sure buy\")\n",
    "else :\n",
    "    print(\"lol\")"
   ]
  },
  {
   "cell_type": "code",
   "execution_count": 28,
   "id": "7a915d80",
   "metadata": {},
   "outputs": [
    {
     "name": "stdout",
     "output_type": "stream",
     "text": [
      "yes\n"
     ]
    }
   ],
   "source": [
    "l = [1,2,3,4,5,6]\n",
    "if 2 in l:\n",
    "    print (\"yes\")\n",
    "else :\n",
    "    print (\"no\")"
   ]
  },
  {
   "cell_type": "code",
   "execution_count": 25,
   "id": "028e5779",
   "metadata": {},
   "outputs": [
    {
     "data": {
      "text/plain": [
       "True"
      ]
     },
     "execution_count": 25,
     "metadata": {},
     "output_type": "execute_result"
    }
   ],
   "source": [
    "l = [1,2,3,4,5,6]\n",
    "2 in l"
   ]
  },
  {
   "cell_type": "code",
   "execution_count": 29,
   "id": "12b6e00f",
   "metadata": {},
   "outputs": [
    {
     "data": {
      "text/plain": [
       "[1, 2, 3, 4, 5, 6]"
      ]
     },
     "execution_count": 29,
     "metadata": {},
     "output_type": "execute_result"
    }
   ],
   "source": [
    "l"
   ]
  },
  {
   "cell_type": "code",
   "execution_count": 31,
   "id": "ea178f3f",
   "metadata": {},
   "outputs": [
    {
     "name": "stdout",
     "output_type": "stream",
     "text": [
      "addition\n"
     ]
    }
   ],
   "source": [
    "if 1 in l :\n",
    "    print (\"addition\")\n",
    "elif 2 in l :\n",
    "    print (\"sub\")\n",
    "elif 3 in l :\n",
    "    print (\"mul\")"
   ]
  },
  {
   "cell_type": "code",
   "execution_count": 32,
   "id": "3cd4ce7f",
   "metadata": {},
   "outputs": [
    {
     "name": "stdout",
     "output_type": "stream",
     "text": [
      "sub\n"
     ]
    }
   ],
   "source": [
    "if 10 in l :\n",
    "    print (\"addition\")\n",
    "elif 2 in l :\n",
    "    print (\"sub\")\n",
    "elif 3 in l :\n",
    "    print (\"mul\")"
   ]
  },
  {
   "cell_type": "code",
   "execution_count": 33,
   "id": "a2dd53a7",
   "metadata": {},
   "outputs": [
    {
     "name": "stdout",
     "output_type": "stream",
     "text": [
      "sub\n",
      "new\n"
     ]
    }
   ],
   "source": [
    "if 10 in l :\n",
    "    print (\"addition\")\n",
    "elif 2 in l :\n",
    "    print (\"sub\")\n",
    "elif 3 in l :\n",
    "    print (\"mul\")\n",
    "if 4 in l :\n",
    "    print(\"new\")"
   ]
  },
  {
   "cell_type": "code",
   "execution_count": 34,
   "id": "771d5633",
   "metadata": {},
   "outputs": [],
   "source": [
    "a = 400"
   ]
  },
  {
   "cell_type": "code",
   "execution_count": 44,
   "id": "6e76aaba",
   "metadata": {},
   "outputs": [
    {
     "ename": "KeyboardInterrupt",
     "evalue": "Interrupted by user",
     "output_type": "error",
     "traceback": [
      "\u001b[0;31m---------------------------------------------------------------------------\u001b[0m",
      "\u001b[0;31mKeyboardInterrupt\u001b[0m                         Traceback (most recent call last)",
      "Input \u001b[0;32mIn [44]\u001b[0m, in \u001b[0;36m<cell line: 2>\u001b[0;34m()\u001b[0m\n\u001b[1;32m      1\u001b[0m \u001b[38;5;66;03m#Type Casting - convert one data type to another\u001b[39;00m\n\u001b[0;32m----> 2\u001b[0m b \u001b[38;5;241m=\u001b[39m \u001b[38;5;28mint\u001b[39m(\u001b[38;5;28;43minput\u001b[39;49m\u001b[43m(\u001b[49m\u001b[43m)\u001b[49m)\n",
      "File \u001b[0;32m/opt/anaconda3/lib/python3.9/site-packages/ipykernel/kernelbase.py:1075\u001b[0m, in \u001b[0;36mKernel.raw_input\u001b[0;34m(self, prompt)\u001b[0m\n\u001b[1;32m   1071\u001b[0m \u001b[38;5;28;01mif\u001b[39;00m \u001b[38;5;129;01mnot\u001b[39;00m \u001b[38;5;28mself\u001b[39m\u001b[38;5;241m.\u001b[39m_allow_stdin:\n\u001b[1;32m   1072\u001b[0m     \u001b[38;5;28;01mraise\u001b[39;00m StdinNotImplementedError(\n\u001b[1;32m   1073\u001b[0m         \u001b[38;5;124m\"\u001b[39m\u001b[38;5;124mraw_input was called, but this frontend does not support input requests.\u001b[39m\u001b[38;5;124m\"\u001b[39m\n\u001b[1;32m   1074\u001b[0m     )\n\u001b[0;32m-> 1075\u001b[0m \u001b[38;5;28;01mreturn\u001b[39;00m \u001b[38;5;28;43mself\u001b[39;49m\u001b[38;5;241;43m.\u001b[39;49m\u001b[43m_input_request\u001b[49m\u001b[43m(\u001b[49m\n\u001b[1;32m   1076\u001b[0m \u001b[43m    \u001b[49m\u001b[38;5;28;43mstr\u001b[39;49m\u001b[43m(\u001b[49m\u001b[43mprompt\u001b[49m\u001b[43m)\u001b[49m\u001b[43m,\u001b[49m\n\u001b[1;32m   1077\u001b[0m \u001b[43m    \u001b[49m\u001b[38;5;28;43mself\u001b[39;49m\u001b[38;5;241;43m.\u001b[39;49m\u001b[43m_parent_ident\u001b[49m\u001b[43m[\u001b[49m\u001b[38;5;124;43m\"\u001b[39;49m\u001b[38;5;124;43mshell\u001b[39;49m\u001b[38;5;124;43m\"\u001b[39;49m\u001b[43m]\u001b[49m\u001b[43m,\u001b[49m\n\u001b[1;32m   1078\u001b[0m \u001b[43m    \u001b[49m\u001b[38;5;28;43mself\u001b[39;49m\u001b[38;5;241;43m.\u001b[39;49m\u001b[43mget_parent\u001b[49m\u001b[43m(\u001b[49m\u001b[38;5;124;43m\"\u001b[39;49m\u001b[38;5;124;43mshell\u001b[39;49m\u001b[38;5;124;43m\"\u001b[39;49m\u001b[43m)\u001b[49m\u001b[43m,\u001b[49m\n\u001b[1;32m   1079\u001b[0m \u001b[43m    \u001b[49m\u001b[43mpassword\u001b[49m\u001b[38;5;241;43m=\u001b[39;49m\u001b[38;5;28;43;01mFalse\u001b[39;49;00m\u001b[43m,\u001b[49m\n\u001b[1;32m   1080\u001b[0m \u001b[43m\u001b[49m\u001b[43m)\u001b[49m\n",
      "File \u001b[0;32m/opt/anaconda3/lib/python3.9/site-packages/ipykernel/kernelbase.py:1120\u001b[0m, in \u001b[0;36mKernel._input_request\u001b[0;34m(self, prompt, ident, parent, password)\u001b[0m\n\u001b[1;32m   1117\u001b[0m             \u001b[38;5;28;01mbreak\u001b[39;00m\n\u001b[1;32m   1118\u001b[0m \u001b[38;5;28;01mexcept\u001b[39;00m \u001b[38;5;167;01mKeyboardInterrupt\u001b[39;00m:\n\u001b[1;32m   1119\u001b[0m     \u001b[38;5;66;03m# re-raise KeyboardInterrupt, to truncate traceback\u001b[39;00m\n\u001b[0;32m-> 1120\u001b[0m     \u001b[38;5;28;01mraise\u001b[39;00m \u001b[38;5;167;01mKeyboardInterrupt\u001b[39;00m(\u001b[38;5;124m\"\u001b[39m\u001b[38;5;124mInterrupted by user\u001b[39m\u001b[38;5;124m\"\u001b[39m) \u001b[38;5;28;01mfrom\u001b[39;00m \u001b[38;5;28mNone\u001b[39m\n\u001b[1;32m   1121\u001b[0m \u001b[38;5;28;01mexcept\u001b[39;00m \u001b[38;5;167;01mException\u001b[39;00m:\n\u001b[1;32m   1122\u001b[0m     \u001b[38;5;28mself\u001b[39m\u001b[38;5;241m.\u001b[39mlog\u001b[38;5;241m.\u001b[39mwarning(\u001b[38;5;124m\"\u001b[39m\u001b[38;5;124mInvalid Message:\u001b[39m\u001b[38;5;124m\"\u001b[39m, exc_info\u001b[38;5;241m=\u001b[39m\u001b[38;5;28;01mTrue\u001b[39;00m)\n",
      "\u001b[0;31mKeyboardInterrupt\u001b[0m: Interrupted by user"
     ]
    }
   ],
   "source": [
    "#Type Casting - convert one data type to another\n",
    "# by default input function return string values\n",
    "b = int(input())"
   ]
  },
  {
   "cell_type": "code",
   "execution_count": 38,
   "id": "a6be7eaa",
   "metadata": {},
   "outputs": [
    {
     "data": {
      "text/plain": [
       "'500'"
      ]
     },
     "execution_count": 38,
     "metadata": {},
     "output_type": "execute_result"
    }
   ],
   "source": [
    "b"
   ]
  },
  {
   "cell_type": "code",
   "execution_count": 43,
   "id": "4f78ed51",
   "metadata": {},
   "outputs": [
    {
     "data": {
      "text/plain": [
       "int"
      ]
     },
     "execution_count": 43,
     "metadata": {},
     "output_type": "execute_result"
    }
   ],
   "source": [
    "type(b)"
   ]
  },
  {
   "cell_type": "code",
   "execution_count": null,
   "id": "1b00d672",
   "metadata": {},
   "outputs": [],
   "source": [
    "price = int(input())\n",
    "if price <500 :\n",
    "    print(\"buy something\")\n",
    "    if price <400 :\n",
    "        print(\"buy jacket\")\n",
    "    elif price <300 :\n",
    "        print(\"buy shirt\")\n",
    "    else :\n",
    "        print(\"nothing\")\n",
    "else :\n",
    "    print(\"mai kuch nahi kahreed paungi\")\n"
   ]
  },
  {
   "cell_type": "code",
   "execution_count": 5,
   "id": "7ba5f689",
   "metadata": {},
   "outputs": [
    {
     "name": "stdout",
     "output_type": "stream",
     "text": [
      "420\n",
      "buy something\n",
      "nothing\n"
     ]
    }
   ],
   "source": [
    "price = int(input())\n",
    "if price <500 :\n",
    "    print(\"buy something\")\n",
    "    if price <400 :\n",
    "        print(\"buy jacket\")\n",
    "    elif price <300 :\n",
    "        print(\"buy shirt\")\n",
    "    else :\n",
    "        print(\"nothing\")\n",
    "else :\n",
    "    print(\"mai kuch nahi kahreed paungi\")"
   ]
  },
  {
   "cell_type": "code",
   "execution_count": 1,
   "id": "c5b3018f",
   "metadata": {},
   "outputs": [
    {
     "name": "stdout",
     "output_type": "stream",
     "text": [
      "1\n",
      "buy something\n"
     ]
    }
   ],
   "source": [
    "price = int(input())\n",
    "if price <500 :\n",
    "    print(\"buy something\")\n",
    "elif price <300 :\n",
    "        print(\"buy shirt\")\n",
    "\n",
    "else :\n",
    "    print(\"mai kuch nahi kahreed paungi\")"
   ]
  },
  {
   "cell_type": "code",
   "execution_count": 8,
   "id": "3c327816",
   "metadata": {},
   "outputs": [
    {
     "name": "stdout",
     "output_type": "stream",
     "text": [
      "1000\n",
      "mai kuch nahi kahreed paungi\n",
      "done flnlr\n"
     ]
    }
   ],
   "source": [
    "price = int(input())\n",
    "if price <500 :\n",
    "    print(\"buy something\")\n",
    "    if price <400 :\n",
    "        print(\"buy jacket\")\n",
    "    elif price <300 :\n",
    "        print(\"buy shirt\")\n",
    "        if price <250 :\n",
    "            print (\"cooool\")\n",
    "        \n",
    "    else :\n",
    "        print(\"nothing\")\n",
    "else :\n",
    "    print(\"mai kuch nahi kahreed paungi\")\n",
    "    if price>500 :\n",
    "        print(\"done flnlr\")"
   ]
  },
  {
   "cell_type": "code",
   "execution_count": 21,
   "id": "42d9cb8f",
   "metadata": {},
   "outputs": [
    {
     "name": "stdout",
     "output_type": "stream",
     "text": [
      "300\n",
      "No GRE\n",
      "TOFEL\n",
      "try somethin g else\n"
     ]
    }
   ],
   "source": [
    "marks = int(input())\n",
    "if marks > 600 :\n",
    "    print (\"GRE\")\n",
    "elif marks < 600 :\n",
    "    print (\"No GRE\")\n",
    "    if marks < 500 :\n",
    "        print (\"TOFEL\")\n",
    "        if marks < 400 :\n",
    "            print (\"try somethin g else\")"
   ]
  },
  {
   "cell_type": "code",
   "execution_count": 4,
   "id": "7c8715f1",
   "metadata": {},
   "outputs": [
    {
     "name": "stdout",
     "output_type": "stream",
     "text": [
      "enter a floating point number  324  \n",
      "value is a positive number\n"
     ]
    }
   ],
   "source": [
    "val = float(input(\"enter a floating point number  \"))\n",
    "if val>= 0 :\n",
    "    if val == 0 :\n",
    "        print (\"entered value is zero\")\n",
    "    else :\n",
    "        print (\"value is a positive number\")\n",
    "else :\n",
    "    print (\"entered number is negative number\")"
   ]
  },
  {
   "cell_type": "code",
   "execution_count": 5,
   "id": "8a588f33",
   "metadata": {},
   "outputs": [
    {
     "name": "stdout",
     "output_type": "stream",
     "text": [
      "try something\n"
     ]
    }
   ],
   "source": [
    "a = 10\n",
    "if a < 10 or a== 10 :\n",
    "    print (\"try something\")"
   ]
  },
  {
   "cell_type": "code",
   "execution_count": 6,
   "id": "ec6c6663",
   "metadata": {},
   "outputs": [],
   "source": [
    "a = 10\n",
    "if a < 10 and a== 10 :\n",
    "    print (\"try something\")"
   ]
  },
  {
   "cell_type": "code",
   "execution_count": 7,
   "id": "9e58d0e2",
   "metadata": {},
   "outputs": [],
   "source": [
    "a = \"medha\"\n",
    "if a == \"medha\" and a ==\"Medha\" :\n",
    "    print (\"this is medha\")"
   ]
  },
  {
   "cell_type": "code",
   "execution_count": 8,
   "id": "5240fbae",
   "metadata": {},
   "outputs": [
    {
     "name": "stdout",
     "output_type": "stream",
     "text": [
      "this is medha\n"
     ]
    }
   ],
   "source": [
    "a = \"medha\"\n",
    "if a == \"medha\" or a ==\"Medha\" :\n",
    "    print (\"this is medha\")"
   ]
  },
  {
   "cell_type": "code",
   "execution_count": 12,
   "id": "2bf8b311",
   "metadata": {},
   "outputs": [
    {
     "name": "stdout",
     "output_type": "stream",
     "text": [
      "cool\n"
     ]
    }
   ],
   "source": [
    "a = 10\n",
    "b = 11\n",
    "c = 12\n",
    "d = 13\n",
    "\n",
    "if a ==10 and b==11 and c ==12 or d==14 :\n",
    "    print (\"cool\")"
   ]
  },
  {
   "cell_type": "code",
   "execution_count": 13,
   "id": "1360b262",
   "metadata": {},
   "outputs": [],
   "source": [
    "d = {\"key1\": \"medha\", \"key2\": \"sudh\", \"key3\" : \"iNeuron\"}"
   ]
  },
  {
   "cell_type": "code",
   "execution_count": 16,
   "id": "8ceec324",
   "metadata": {},
   "outputs": [
    {
     "name": "stdout",
     "output_type": "stream",
     "text": [
      "values not verified\n"
     ]
    }
   ],
   "source": [
    "if d['key1'] == \"medha\" and d[\"key2\"] == \"Sudh\" and d[\"key3\"] == \"iNeuron\" :\n",
    "    print(\"all the value are verified\")\n",
    "    print(d.values())\n",
    "else :\n",
    "    print(\"values not verified\")"
   ]
  },
  {
   "cell_type": "code",
   "execution_count": 17,
   "id": "e27e713c",
   "metadata": {},
   "outputs": [],
   "source": [
    "# FOR LOOP\n",
    "l =[1,2,3,4,\"medha\", 13.94]"
   ]
  },
  {
   "cell_type": "code",
   "execution_count": 23,
   "id": "806be489",
   "metadata": {},
   "outputs": [
    {
     "name": "stdout",
     "output_type": "stream",
     "text": [
      "2\n",
      "3\n",
      "4\n",
      "5\n",
      "medha1\n",
      "14.94\n"
     ]
    }
   ],
   "source": [
    "for i in l :\n",
    "    if type(i)== int or type(i) == float :\n",
    "        print(i +1)\n",
    "    elif type(i)== str:\n",
    "        print (i + str(1))"
   ]
  },
  {
   "cell_type": "code",
   "execution_count": 25,
   "id": "d7849218",
   "metadata": {},
   "outputs": [
    {
     "name": "stdout",
     "output_type": "stream",
     "text": [
      "9\n",
      "8\n",
      "7\n",
      "6\n",
      "5\n",
      "4\n",
      "3\n",
      "2\n",
      "10\n"
     ]
    }
   ],
   "source": [
    "a = [9,8,7,6,5,4,3,2,10]\n",
    "for i in a :\n",
    "    print(i)"
   ]
  },
  {
   "cell_type": "code",
   "execution_count": 27,
   "id": "e9ab9d34",
   "metadata": {},
   "outputs": [],
   "source": [
    "a = [34]"
   ]
  },
  {
   "cell_type": "code",
   "execution_count": 28,
   "id": "1e52aa8c",
   "metadata": {},
   "outputs": [
    {
     "data": {
      "text/plain": [
       "list"
      ]
     },
     "execution_count": 28,
     "metadata": {},
     "output_type": "execute_result"
    }
   ],
   "source": [
    "type(a)"
   ]
  },
  {
   "cell_type": "code",
   "execution_count": 29,
   "id": "c28142b0",
   "metadata": {},
   "outputs": [
    {
     "data": {
      "text/plain": [
       "[1, 2, 3, 4, 'medha', 13.94]"
      ]
     },
     "execution_count": 29,
     "metadata": {},
     "output_type": "execute_result"
    }
   ],
   "source": [
    "l "
   ]
  },
  {
   "cell_type": "code",
   "execution_count": 33,
   "id": "b46611f9",
   "metadata": {},
   "outputs": [],
   "source": [
    "l1 =[]\n",
    "for i in l:\n",
    "    if type(i) == int :\n",
    "        l1.append(i)"
   ]
  },
  {
   "cell_type": "code",
   "execution_count": 34,
   "id": "04b578f2",
   "metadata": {},
   "outputs": [
    {
     "data": {
      "text/plain": [
       "[1, 2, 3, 4]"
      ]
     },
     "execution_count": 34,
     "metadata": {},
     "output_type": "execute_result"
    }
   ],
   "source": [
    "l1"
   ]
  },
  {
   "cell_type": "code",
   "execution_count": null,
   "id": "0c6bb251",
   "metadata": {},
   "outputs": [],
   "source": []
  }
 ],
 "metadata": {
  "kernelspec": {
   "display_name": "Python 3 (ipykernel)",
   "language": "python",
   "name": "python3"
  },
  "language_info": {
   "codemirror_mode": {
    "name": "ipython",
    "version": 3
   },
   "file_extension": ".py",
   "mimetype": "text/x-python",
   "name": "python",
   "nbconvert_exporter": "python",
   "pygments_lexer": "ipython3",
   "version": "3.9.12"
  }
 },
 "nbformat": 4,
 "nbformat_minor": 5
}
