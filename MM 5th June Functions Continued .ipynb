{
 "cells": [
  {
   "cell_type": "code",
   "execution_count": 7,
   "id": "acc704b6",
   "metadata": {},
   "outputs": [],
   "source": [
    "def test(a,b):\n",
    "    \"\"\"this is my function of addition\"\"\"\n",
    "    return a+b"
   ]
  },
  {
   "cell_type": "code",
   "execution_count": 3,
   "id": "280e4ed2",
   "metadata": {},
   "outputs": [
    {
     "data": {
      "text/plain": [
       "10"
      ]
     },
     "execution_count": 3,
     "metadata": {},
     "output_type": "execute_result"
    }
   ],
   "source": [
    "test(4,6)"
   ]
  },
  {
   "cell_type": "code",
   "execution_count": 4,
   "id": "bf9edd1d",
   "metadata": {},
   "outputs": [
    {
     "data": {
      "text/plain": [
       "'sudhkumar'"
      ]
     },
     "execution_count": 4,
     "metadata": {},
     "output_type": "execute_result"
    }
   ],
   "source": [
    "test(\"sudh\", \"kumar\")"
   ]
  },
  {
   "cell_type": "code",
   "execution_count": 5,
   "id": "099916bc",
   "metadata": {},
   "outputs": [
    {
     "data": {
      "text/plain": [
       "76"
      ]
     },
     "execution_count": 5,
     "metadata": {},
     "output_type": "execute_result"
    }
   ],
   "source": [
    "test(a=9, b=67)"
   ]
  },
  {
   "cell_type": "code",
   "execution_count": 6,
   "id": "d9feaa92",
   "metadata": {},
   "outputs": [
    {
     "data": {
      "text/plain": [
       "145"
      ]
     },
     "execution_count": 6,
     "metadata": {},
     "output_type": "execute_result"
    }
   ],
   "source": [
    "test(b=78, a=67)"
   ]
  },
  {
   "cell_type": "code",
   "execution_count": 8,
   "id": "23683076",
   "metadata": {},
   "outputs": [],
   "source": [
    " def test1(a,b,c,d,e):\n",
    "        return a,b,c,d,e"
   ]
  },
  {
   "cell_type": "code",
   "execution_count": 9,
   "id": "d1ab669d",
   "metadata": {},
   "outputs": [],
   "source": [
    "def test(*a):\n",
    "    return a"
   ]
  },
  {
   "cell_type": "code",
   "execution_count": 10,
   "id": "dd4f7c06",
   "metadata": {},
   "outputs": [
    {
     "data": {
      "text/plain": [
       "(67457856, 575, 73)"
      ]
     },
     "execution_count": 10,
     "metadata": {},
     "output_type": "execute_result"
    }
   ],
   "source": [
    "test(67457856,575,73)"
   ]
  },
  {
   "cell_type": "code",
   "execution_count": 15,
   "id": "224af26c",
   "metadata": {},
   "outputs": [],
   "source": [
    "def test4(*medha):\n",
    "    return medha"
   ]
  },
  {
   "cell_type": "code",
   "execution_count": 19,
   "id": "02b45e7e",
   "metadata": {},
   "outputs": [
    {
     "data": {
      "text/plain": [
       "(63287642886284,)"
      ]
     },
     "execution_count": 19,
     "metadata": {},
     "output_type": "execute_result"
    }
   ],
   "source": [
    "test4(63287642886284)"
   ]
  },
  {
   "cell_type": "code",
   "execution_count": 34,
   "id": "e1318872",
   "metadata": {},
   "outputs": [],
   "source": [
    "def test5(*a):\n",
    "    l=[]\n",
    "    for i in a:\n",
    "        l.append(i)\n",
    "    return l\n"
   ]
  },
  {
   "cell_type": "code",
   "execution_count": 35,
   "id": "b39457f9",
   "metadata": {},
   "outputs": [
    {
     "data": {
      "text/plain": [
       "[2, 3, 4, 5456, 67, [345, 67, 8]]"
      ]
     },
     "execution_count": 35,
     "metadata": {},
     "output_type": "execute_result"
    }
   ],
   "source": [
    "test5(2,3,4,5456,67,[345,67,8])"
   ]
  },
  {
   "cell_type": "code",
   "execution_count": 36,
   "id": "1c50d4d6",
   "metadata": {},
   "outputs": [
    {
     "data": {
      "text/plain": [
       "[45, 67]"
      ]
     },
     "execution_count": 36,
     "metadata": {},
     "output_type": "execute_result"
    }
   ],
   "source": [
    "test5(45,67)"
   ]
  },
  {
   "cell_type": "code",
   "execution_count": 40,
   "id": "28a64a2c",
   "metadata": {},
   "outputs": [],
   "source": [
    "def test6(a,b,c,d,*m):\n",
    "    return a,b,c,d,m"
   ]
  },
  {
   "cell_type": "code",
   "execution_count": 41,
   "id": "5b0316ca",
   "metadata": {},
   "outputs": [
    {
     "data": {
      "text/plain": [
       "(5, 5, 6, 7, (8, 9, 432.5, 88))"
      ]
     },
     "execution_count": 41,
     "metadata": {},
     "output_type": "execute_result"
    }
   ],
   "source": [
    "test6(5,5,6,7,8,9,432.5,88)"
   ]
  },
  {
   "cell_type": "code",
   "execution_count": 44,
   "id": "ab78f6c1",
   "metadata": {},
   "outputs": [],
   "source": [
    "def test7(*m,a,b,c):\n",
    "    return m,a,b,c"
   ]
  },
  {
   "cell_type": "code",
   "execution_count": 49,
   "id": "466ee385",
   "metadata": {},
   "outputs": [
    {
     "data": {
      "text/plain": [
       "((74, 654, 73865, 78), 8475857, 65845, 6785)"
      ]
     },
     "execution_count": 49,
     "metadata": {},
     "output_type": "execute_result"
    }
   ],
   "source": [
    "test7(74,654,73865,78,a= 8475857,b= 65845,c=6785)"
   ]
  },
  {
   "cell_type": "code",
   "execution_count": 54,
   "id": "7aa465a5",
   "metadata": {},
   "outputs": [],
   "source": [
    "def test8(**medha):\n",
    "    return medha"
   ]
  },
  {
   "cell_type": "code",
   "execution_count": 56,
   "id": "2a1ee2cb",
   "metadata": {},
   "outputs": [
    {
     "data": {
      "text/plain": [
       "{'a': 3, 'd': 45, 'c': 56, 't': 678, 'n': 34, 'w': [1, 2, 3, 4]}"
      ]
     },
     "execution_count": 56,
     "metadata": {},
     "output_type": "execute_result"
    }
   ],
   "source": [
    "test8(a=3,d=45,c=56,t=678, n=34, w=[1,2,3,4])"
   ]
  },
  {
   "cell_type": "code",
   "execution_count": 57,
   "id": "16df8d42",
   "metadata": {},
   "outputs": [],
   "source": [
    "def test9(*m, **s):\n",
    "    return m,s"
   ]
  },
  {
   "cell_type": "code",
   "execution_count": 59,
   "id": "31b7eea9",
   "metadata": {},
   "outputs": [
    {
     "data": {
      "text/plain": [
       "((56, 578, 234, 6, 7), {'b': 34, 'c': 'er', 'd': 5656, 'e': 98})"
      ]
     },
     "execution_count": 59,
     "metadata": {},
     "output_type": "execute_result"
    }
   ],
   "source": [
    "test9(56,578,234,6,7, b=34, c=\"er\", d=5656, e=98)"
   ]
  },
  {
   "cell_type": "code",
   "execution_count": 63,
   "id": "a379d865",
   "metadata": {},
   "outputs": [],
   "source": [
    "def test10(*m):\n",
    "    n=0\n",
    "    for i in m:\n",
    "        if type(i) == int:\n",
    "            n =n+i \n",
    "    return n"
   ]
  },
  {
   "cell_type": "code",
   "execution_count": 64,
   "id": "8ac21ab8",
   "metadata": {},
   "outputs": [
    {
     "data": {
      "text/plain": [
       "44581"
      ]
     },
     "execution_count": 64,
     "metadata": {},
     "output_type": "execute_result"
    }
   ],
   "source": [
    "test10(2,3,4,5,6,7,89,7,5,44444,4,5)"
   ]
  },
  {
   "cell_type": "code",
   "execution_count": 67,
   "id": "67acbcfc",
   "metadata": {},
   "outputs": [],
   "source": [
    "def test11(*m):\n",
    "    n=1\n",
    "    for i in m:\n",
    "        if type(i) == int:\n",
    "            n =n*i \n",
    "    return n"
   ]
  },
  {
   "cell_type": "code",
   "execution_count": 68,
   "id": "41aef0ec",
   "metadata": {},
   "outputs": [
    {
     "data": {
      "text/plain": [
       "6720"
      ]
     },
     "execution_count": 68,
     "metadata": {},
     "output_type": "execute_result"
    }
   ],
   "source": [
    "test11(4,5,6,7,8)"
   ]
  },
  {
   "cell_type": "code",
   "execution_count": 69,
   "id": "18b15473",
   "metadata": {},
   "outputs": [],
   "source": [
    "n = lambda a,b : a+b "
   ]
  },
  {
   "cell_type": "code",
   "execution_count": 70,
   "id": "e0ef7d8c",
   "metadata": {},
   "outputs": [
    {
     "data": {
      "text/plain": [
       "9"
      ]
     },
     "execution_count": 70,
     "metadata": {},
     "output_type": "execute_result"
    }
   ],
   "source": [
    "n(4,5)"
   ]
  },
  {
   "cell_type": "code",
   "execution_count": 71,
   "id": "ee19eeaa",
   "metadata": {},
   "outputs": [],
   "source": [
    "def test5(a,b):\n",
    "    return a+b"
   ]
  },
  {
   "cell_type": "code",
   "execution_count": 72,
   "id": "093f5c7c",
   "metadata": {},
   "outputs": [
    {
     "data": {
      "text/plain": [
       "9"
      ]
     },
     "execution_count": 72,
     "metadata": {},
     "output_type": "execute_result"
    }
   ],
   "source": [
    "test5(4,5)"
   ]
  },
  {
   "cell_type": "code",
   "execution_count": 73,
   "id": "5aed4874",
   "metadata": {},
   "outputs": [],
   "source": [
    "b= lambda *q :q\n"
   ]
  },
  {
   "cell_type": "code",
   "execution_count": 74,
   "id": "0a2110cc",
   "metadata": {},
   "outputs": [
    {
     "data": {
      "text/plain": [
       "(2, 3, 4, 5, 6, 6, 7)"
      ]
     },
     "execution_count": 74,
     "metadata": {},
     "output_type": "execute_result"
    }
   ],
   "source": [
    "b(2,3,4,5,6,6,7)"
   ]
  },
  {
   "cell_type": "code",
   "execution_count": 76,
   "id": "7fc10a71",
   "metadata": {},
   "outputs": [
    {
     "data": {
      "text/plain": [
       "[3, 4, 4, 5, 6, 67, 7, 7]"
      ]
     },
     "execution_count": 76,
     "metadata": {},
     "output_type": "execute_result"
    }
   ],
   "source": [
    "t=(3,4,4,5,6,67,7,7)\n",
    "l=[]\n",
    "for i in t:\n",
    "    l.append(i)\n",
    "l"
   ]
  },
  {
   "cell_type": "code",
   "execution_count": 77,
   "id": "4eb44bae",
   "metadata": {},
   "outputs": [
    {
     "data": {
      "text/plain": [
       "[3, 4, 4, 5, 6, 67, 7, 7]"
      ]
     },
     "execution_count": 77,
     "metadata": {},
     "output_type": "execute_result"
    }
   ],
   "source": [
    "[i for i in t]\n",
    "#list comprehension "
   ]
  },
  {
   "cell_type": "code",
   "execution_count": 79,
   "id": "3334659a",
   "metadata": {},
   "outputs": [
    {
     "data": {
      "text/plain": [
       "['s', 'u', 'd', 'h']"
      ]
     },
     "execution_count": 79,
     "metadata": {},
     "output_type": "execute_result"
    }
   ],
   "source": [
    "s= \"sudh\"\n",
    "[i for i in s]"
   ]
  },
  {
   "cell_type": "code",
   "execution_count": 80,
   "id": "e8a41e2d",
   "metadata": {},
   "outputs": [
    {
     "data": {
      "text/plain": [
       "[0, 1, 4, 9, 16, 25, 36, 49, 64, 81]"
      ]
     },
     "execution_count": 80,
     "metadata": {},
     "output_type": "execute_result"
    }
   ],
   "source": [
    "[i*i for i in range(10)]"
   ]
  },
  {
   "cell_type": "code",
   "execution_count": 23,
   "id": "16576152",
   "metadata": {},
   "outputs": [],
   "source": [
    "l=lambda *x: [i**2 for i in x]"
   ]
  },
  {
   "cell_type": "code",
   "execution_count": 24,
   "id": "0e0759fc",
   "metadata": {},
   "outputs": [
    {
     "data": {
      "text/plain": [
       "[16, 2025, 36, 36, 49, 64, 81]"
      ]
     },
     "execution_count": 24,
     "metadata": {},
     "output_type": "execute_result"
    }
   ],
   "source": [
    "l(4,45,6,6,7,8,9)"
   ]
  },
  {
   "cell_type": "code",
   "execution_count": 103,
   "id": "ef77592f",
   "metadata": {},
   "outputs": [],
   "source": [
    "test14(a=7, b=\"medhu\", c=456, d=\"medhu\", l=[2,3,4,5,\"medhu\"])"
   ]
  },
  {
   "cell_type": "code",
   "execution_count": 123,
   "id": "73445d39",
   "metadata": {},
   "outputs": [],
   "source": [
    "def test14(**yum):\n",
    "    x=0\n",
    "    for i in yum.values():\n",
    "        if type(i) == str or type(i) == list:\n",
    "            x +=1\n",
    "    return x\n",
    "    "
   ]
  },
  {
   "cell_type": "code",
   "execution_count": 124,
   "id": "78a9c1cd",
   "metadata": {},
   "outputs": [
    {
     "data": {
      "text/plain": [
       "3"
      ]
     },
     "execution_count": 124,
     "metadata": {},
     "output_type": "execute_result"
    }
   ],
   "source": [
    "test14(a=7, b=\"medhu\", c=456, d=\"medhu\", l=[2,3,4,5,\"medhu\"])"
   ]
  },
  {
   "cell_type": "code",
   "execution_count": 125,
   "id": "0bd05c6a",
   "metadata": {},
   "outputs": [],
   "source": [
    "def test15(**p):\n",
    "    return list(p.values())"
   ]
  },
  {
   "cell_type": "code",
   "execution_count": 3,
   "id": "e7dfb38e",
   "metadata": {},
   "outputs": [
    {
     "ename": "SyntaxError",
     "evalue": "invalid syntax (3038102959.py, line 1)",
     "output_type": "error",
     "traceback": [
      "\u001b[0;36m  Input \u001b[0;32mIn [3]\u001b[0;36m\u001b[0m\n\u001b[0;31m    s= (a=7, b=\"medhu\", c=456, d=\"medhu\", l=[2,3,4,5,\"medhu\"])\u001b[0m\n\u001b[0m         ^\u001b[0m\n\u001b[0;31mSyntaxError\u001b[0m\u001b[0;31m:\u001b[0m invalid syntax\n"
     ]
    }
   ],
   "source": [
    "(a=7, b=\"medhu\", c=456, d=\"medhu\", l=[2,3,4,5,\"medhu\"])"
   ]
  },
  {
   "cell_type": "code",
   "execution_count": 1,
   "id": "2c9dab38",
   "metadata": {},
   "outputs": [
    {
     "data": {
      "text/plain": [
       "[0, 1, 4, 9, 16, 25, 36, 49, 64, 81]"
      ]
     },
     "execution_count": 1,
     "metadata": {},
     "output_type": "execute_result"
    }
   ],
   "source": [
    "[i**2 for i in range(10)]"
   ]
  },
  {
   "cell_type": "code",
   "execution_count": null,
   "id": "02b010e2",
   "metadata": {},
   "outputs": [],
   "source": []
  },
  {
   "cell_type": "code",
   "execution_count": 19,
   "id": "7806c496",
   "metadata": {},
   "outputs": [],
   "source": [
    "def test13(**m):\n",
    "    count=0\n",
    "    for i in m.values():\n",
    "        if type(i) == str or type(i) == list:\n",
    "                count=count+1\n",
    "    return count\n",
    "                \n",
    "                \n",
    "                    "
   ]
  },
  {
   "cell_type": "code",
   "execution_count": 20,
   "id": "5aef307f",
   "metadata": {},
   "outputs": [
    {
     "data": {
      "text/plain": [
       "3"
      ]
     },
     "execution_count": 20,
     "metadata": {},
     "output_type": "execute_result"
    }
   ],
   "source": [
    "test13(a=7, b=\"medhu\", c=456, d=\"medhu\", l=[2,3,4,5,\"medhu\"])"
   ]
  },
  {
   "cell_type": "code",
   "execution_count": 21,
   "id": "c9927677",
   "metadata": {},
   "outputs": [],
   "source": [
    "def test15(**kwargs):\n",
    "    return list(kwargs.values())"
   ]
  },
  {
   "cell_type": "code",
   "execution_count": 22,
   "id": "9c0d7494",
   "metadata": {},
   "outputs": [
    {
     "data": {
      "text/plain": [
       "[7, 'medhu', 456, 'medhu', [2, 3, 4, 5, 'medhu']]"
      ]
     },
     "execution_count": 22,
     "metadata": {},
     "output_type": "execute_result"
    }
   ],
   "source": [
    "test15(a=7, b=\"medhu\", c=456, d=\"medhu\", l=[2,3,4,5,\"medhu\"])"
   ]
  },
  {
   "cell_type": "code",
   "execution_count": null,
   "id": "fc750853",
   "metadata": {},
   "outputs": [],
   "source": []
  }
 ],
 "metadata": {
  "kernelspec": {
   "display_name": "Python 3 (ipykernel)",
   "language": "python",
   "name": "python3"
  },
  "language_info": {
   "codemirror_mode": {
    "name": "ipython",
    "version": 3
   },
   "file_extension": ".py",
   "mimetype": "text/x-python",
   "name": "python",
   "nbconvert_exporter": "python",
   "pygments_lexer": "ipython3",
   "version": "3.9.12"
  }
 },
 "nbformat": 4,
 "nbformat_minor": 5
}
