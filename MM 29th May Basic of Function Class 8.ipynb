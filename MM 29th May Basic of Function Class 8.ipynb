{
 "cells": [
  {
   "cell_type": "code",
   "execution_count": 1,
   "id": "c90b8652",
   "metadata": {},
   "outputs": [],
   "source": [
    "#Function"
   ]
  },
  {
   "cell_type": "code",
   "execution_count": 2,
   "id": "1ee98d4f",
   "metadata": {},
   "outputs": [],
   "source": [
    "def medha():\n",
    "    print(\"this is my first function\")"
   ]
  },
  {
   "cell_type": "code",
   "execution_count": 3,
   "id": "578a3602",
   "metadata": {},
   "outputs": [
    {
     "name": "stdout",
     "output_type": "stream",
     "text": [
      "this is my first function\n"
     ]
    }
   ],
   "source": [
    "medha()"
   ]
  },
  {
   "cell_type": "code",
   "execution_count": 5,
   "id": "17f17aed",
   "metadata": {},
   "outputs": [
    {
     "name": "stdout",
     "output_type": "stream",
     "text": [
      "this is my first function\n"
     ]
    },
    {
     "data": {
      "text/plain": [
       "NoneType"
      ]
     },
     "execution_count": 5,
     "metadata": {},
     "output_type": "execute_result"
    }
   ],
   "source": [
    "type(medha())"
   ]
  },
  {
   "cell_type": "code",
   "execution_count": 6,
   "id": "97768208",
   "metadata": {},
   "outputs": [],
   "source": [
    "def mishra():\n",
    "    return\"this is my second function\""
   ]
  },
  {
   "cell_type": "code",
   "execution_count": 7,
   "id": "48ca7d0f",
   "metadata": {},
   "outputs": [
    {
     "data": {
      "text/plain": [
       "str"
      ]
     },
     "execution_count": 7,
     "metadata": {},
     "output_type": "execute_result"
    }
   ],
   "source": [
    "type(mishra())"
   ]
  },
  {
   "cell_type": "code",
   "execution_count": 9,
   "id": "ee51eada",
   "metadata": {},
   "outputs": [
    {
     "data": {
      "text/plain": [
       "'this is my second function sudh'"
      ]
     },
     "execution_count": 9,
     "metadata": {},
     "output_type": "execute_result"
    }
   ],
   "source": [
    "mishra() + \" sudh\""
   ]
  },
  {
   "cell_type": "code",
   "execution_count": 13,
   "id": "a03124e6",
   "metadata": {},
   "outputs": [],
   "source": [
    "def test():\n",
    "    return 23.98"
   ]
  },
  {
   "cell_type": "code",
   "execution_count": 14,
   "id": "ca0e2243",
   "metadata": {},
   "outputs": [
    {
     "data": {
      "text/plain": [
       "46.980000000000004"
      ]
     },
     "execution_count": 14,
     "metadata": {},
     "output_type": "execute_result"
    }
   ],
   "source": [
    "test() + 23"
   ]
  },
  {
   "cell_type": "code",
   "execution_count": 15,
   "id": "54a46d5c",
   "metadata": {},
   "outputs": [],
   "source": [
    "def test3():\n",
    "    return 1,2,34,[1,23,4,56]"
   ]
  },
  {
   "cell_type": "code",
   "execution_count": 16,
   "id": "fc0ea2c0",
   "metadata": {},
   "outputs": [
    {
     "data": {
      "text/plain": [
       "(1, 2, 34, [1, 23, 4, 56])"
      ]
     },
     "execution_count": 16,
     "metadata": {},
     "output_type": "execute_result"
    }
   ],
   "source": [
    "test3()"
   ]
  },
  {
   "cell_type": "code",
   "execution_count": 17,
   "id": "93d4e343",
   "metadata": {},
   "outputs": [],
   "source": [
    "a,b,c,d = test3()"
   ]
  },
  {
   "cell_type": "code",
   "execution_count": 18,
   "id": "e77e3e4a",
   "metadata": {},
   "outputs": [
    {
     "data": {
      "text/plain": [
       "1"
      ]
     },
     "execution_count": 18,
     "metadata": {},
     "output_type": "execute_result"
    }
   ],
   "source": [
    "a"
   ]
  },
  {
   "cell_type": "code",
   "execution_count": 19,
   "id": "ccf02baa",
   "metadata": {},
   "outputs": [
    {
     "data": {
      "text/plain": [
       "2"
      ]
     },
     "execution_count": 19,
     "metadata": {},
     "output_type": "execute_result"
    }
   ],
   "source": [
    "b"
   ]
  },
  {
   "cell_type": "code",
   "execution_count": 20,
   "id": "011fbd70",
   "metadata": {},
   "outputs": [
    {
     "data": {
      "text/plain": [
       "34"
      ]
     },
     "execution_count": 20,
     "metadata": {},
     "output_type": "execute_result"
    }
   ],
   "source": [
    "c"
   ]
  },
  {
   "cell_type": "code",
   "execution_count": 21,
   "id": "e2576b0f",
   "metadata": {},
   "outputs": [
    {
     "data": {
      "text/plain": [
       "[1, 23, 4, 56]"
      ]
     },
     "execution_count": 21,
     "metadata": {},
     "output_type": "execute_result"
    }
   ],
   "source": [
    "d"
   ]
  },
  {
   "cell_type": "code",
   "execution_count": 22,
   "id": "e789d8a5",
   "metadata": {},
   "outputs": [],
   "source": [
    "def test4():\n",
    "    a=4*5\n",
    "    b=5+4\n",
    "    return a,b"
   ]
  },
  {
   "cell_type": "code",
   "execution_count": 25,
   "id": "245ab786",
   "metadata": {},
   "outputs": [
    {
     "data": {
      "text/plain": [
       "(20, 9)"
      ]
     },
     "execution_count": 25,
     "metadata": {},
     "output_type": "execute_result"
    }
   ],
   "source": [
    "g = test4()\n",
    "g"
   ]
  },
  {
   "cell_type": "code",
   "execution_count": 26,
   "id": "e45abf3a",
   "metadata": {},
   "outputs": [],
   "source": [
    "j,k=test4()"
   ]
  },
  {
   "cell_type": "code",
   "execution_count": 27,
   "id": "086db90d",
   "metadata": {},
   "outputs": [
    {
     "data": {
      "text/plain": [
       "20"
      ]
     },
     "execution_count": 27,
     "metadata": {},
     "output_type": "execute_result"
    }
   ],
   "source": [
    "j"
   ]
  },
  {
   "cell_type": "code",
   "execution_count": 28,
   "id": "3273bcad",
   "metadata": {},
   "outputs": [
    {
     "data": {
      "text/plain": [
       "9"
      ]
     },
     "execution_count": 28,
     "metadata": {},
     "output_type": "execute_result"
    }
   ],
   "source": [
    "k"
   ]
  },
  {
   "cell_type": "code",
   "execution_count": 29,
   "id": "29abd081",
   "metadata": {},
   "outputs": [],
   "source": [
    "_ , m =test4()"
   ]
  },
  {
   "cell_type": "code",
   "execution_count": 30,
   "id": "8f3afde4",
   "metadata": {},
   "outputs": [
    {
     "data": {
      "text/plain": [
       "9"
      ]
     },
     "execution_count": 30,
     "metadata": {},
     "output_type": "execute_result"
    }
   ],
   "source": [
    "m"
   ]
  },
  {
   "cell_type": "code",
   "execution_count": 31,
   "id": "af216a7f",
   "metadata": {},
   "outputs": [
    {
     "data": {
      "text/plain": [
       "20"
      ]
     },
     "execution_count": 31,
     "metadata": {},
     "output_type": "execute_result"
    }
   ],
   "source": [
    "_"
   ]
  },
  {
   "cell_type": "code",
   "execution_count": 32,
   "id": "f305cdbe",
   "metadata": {},
   "outputs": [
    {
     "data": {
      "text/plain": [
       "(1, 2, 34, [1, 23, 4, 56])"
      ]
     },
     "execution_count": 32,
     "metadata": {},
     "output_type": "execute_result"
    }
   ],
   "source": [
    "test3()"
   ]
  },
  {
   "cell_type": "code",
   "execution_count": 33,
   "id": "1d18df38",
   "metadata": {},
   "outputs": [],
   "source": [
    "_,_,_,x =test3()"
   ]
  },
  {
   "cell_type": "code",
   "execution_count": 34,
   "id": "2b50d449",
   "metadata": {},
   "outputs": [
    {
     "data": {
      "text/plain": [
       "[1, 23, 4, 56]"
      ]
     },
     "execution_count": 34,
     "metadata": {},
     "output_type": "execute_result"
    }
   ],
   "source": [
    "x"
   ]
  },
  {
   "cell_type": "code",
   "execution_count": 35,
   "id": "1a12a34e",
   "metadata": {},
   "outputs": [],
   "source": [
    "def test5():\n",
    "    a=0\n",
    "    b=10\n",
    "    while a<=b:\n",
    "        print(a)\n",
    "        a =a+2\n",
    "    else:\n",
    "        print(\"print this else block\")"
   ]
  },
  {
   "cell_type": "code",
   "execution_count": 36,
   "id": "d12d2908",
   "metadata": {},
   "outputs": [
    {
     "name": "stdout",
     "output_type": "stream",
     "text": [
      "0\n",
      "2\n",
      "4\n",
      "6\n",
      "8\n",
      "10\n",
      "print this else block\n"
     ]
    }
   ],
   "source": [
    "test5()"
   ]
  },
  {
   "cell_type": "code",
   "execution_count": 37,
   "id": "18dab6aa",
   "metadata": {},
   "outputs": [],
   "source": [
    "def test6(a,b):\n",
    "    while a<=b:\n",
    "        print(a)\n",
    "        a =a+2\n",
    "    else:\n",
    "        print(\"print this else block\")"
   ]
  },
  {
   "cell_type": "code",
   "execution_count": 38,
   "id": "5f05655c",
   "metadata": {},
   "outputs": [
    {
     "ename": "TypeError",
     "evalue": "test6() missing 2 required positional arguments: 'a' and 'b'",
     "output_type": "error",
     "traceback": [
      "\u001b[0;31m---------------------------------------------------------------------------\u001b[0m",
      "\u001b[0;31mTypeError\u001b[0m                                 Traceback (most recent call last)",
      "Input \u001b[0;32mIn [38]\u001b[0m, in \u001b[0;36m<cell line: 1>\u001b[0;34m()\u001b[0m\n\u001b[0;32m----> 1\u001b[0m \u001b[43mtest6\u001b[49m\u001b[43m(\u001b[49m\u001b[43m)\u001b[49m\n",
      "\u001b[0;31mTypeError\u001b[0m: test6() missing 2 required positional arguments: 'a' and 'b'"
     ]
    }
   ],
   "source": [
    "test6()"
   ]
  },
  {
   "cell_type": "code",
   "execution_count": 40,
   "id": "6158f1c9",
   "metadata": {},
   "outputs": [
    {
     "name": "stdout",
     "output_type": "stream",
     "text": [
      "print this else block\n"
     ]
    }
   ],
   "source": [
    "test6(5,2)"
   ]
  },
  {
   "cell_type": "code",
   "execution_count": 41,
   "id": "baf1580c",
   "metadata": {},
   "outputs": [],
   "source": [
    "def test7(a,b):\n",
    "    l=[]\n",
    "    while a<=b:\n",
    "        #print(a)\n",
    "        l.append(a)\n",
    "        a =a+2\n",
    "    else:\n",
    "        print(\"print this else block\")\n",
    "    return l"
   ]
  },
  {
   "cell_type": "code",
   "execution_count": 42,
   "id": "d373d71a",
   "metadata": {},
   "outputs": [
    {
     "name": "stdout",
     "output_type": "stream",
     "text": [
      "print this else block\n"
     ]
    },
    {
     "data": {
      "text/plain": [
       "[1, 3, 5, 7, 9]"
      ]
     },
     "execution_count": 42,
     "metadata": {},
     "output_type": "execute_result"
    }
   ],
   "source": [
    "test7(1,10)"
   ]
  },
  {
   "cell_type": "code",
   "execution_count": 50,
   "id": "ca8e5db4",
   "metadata": {},
   "outputs": [],
   "source": [
    "l = [4,5,6,67,656,8,9,9,9,[3,4,5,6,7,7], \"sudh\"]"
   ]
  },
  {
   "cell_type": "code",
   "execution_count": 78,
   "id": "247c907d",
   "metadata": {},
   "outputs": [],
   "source": [
    "def cool(l):\n",
    "    d=[]\n",
    "    for i in l:\n",
    "        if type(i)==int or type(i) == list:\n",
    "            d.append(i)\n",
    "    return d\n",
    "            "
   ]
  },
  {
   "cell_type": "code",
   "execution_count": 79,
   "id": "2106120c",
   "metadata": {},
   "outputs": [
    {
     "data": {
      "text/plain": [
       "[4, 5, 6, 67, 656, 8, 9, 9, 9, [3, 4, 5, 6, 7, 7]]"
      ]
     },
     "execution_count": 79,
     "metadata": {},
     "output_type": "execute_result"
    }
   ],
   "source": [
    "cool(l)"
   ]
  },
  {
   "cell_type": "code",
   "execution_count": 80,
   "id": "f7b6242e",
   "metadata": {},
   "outputs": [],
   "source": [
    "m=[43,4546,6565,656546,464,[23,2445,656,454], \"medhu\"]"
   ]
  },
  {
   "cell_type": "code",
   "execution_count": 81,
   "id": "d80b479f",
   "metadata": {},
   "outputs": [
    {
     "data": {
      "text/plain": [
       "[43, 4546, 6565, 656546, 464, [23, 2445, 656, 454]]"
      ]
     },
     "execution_count": 81,
     "metadata": {},
     "output_type": "execute_result"
    }
   ],
   "source": [
    "cool(m)"
   ]
  },
  {
   "cell_type": "code",
   "execution_count": null,
   "id": "97f32d68",
   "metadata": {},
   "outputs": [],
   "source": []
  }
 ],
 "metadata": {
  "kernelspec": {
   "display_name": "Python 3 (ipykernel)",
   "language": "python",
   "name": "python3"
  },
  "language_info": {
   "codemirror_mode": {
    "name": "ipython",
    "version": 3
   },
   "file_extension": ".py",
   "mimetype": "text/x-python",
   "name": "python",
   "nbconvert_exporter": "python",
   "pygments_lexer": "ipython3",
   "version": "3.9.12"
  }
 },
 "nbformat": 4,
 "nbformat_minor": 5
}
