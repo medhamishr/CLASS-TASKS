{
 "cells": [
  {
   "cell_type": "markdown",
   "id": "1c64ddaf",
   "metadata": {},
   "source": [
    "# my first class"
   ]
  },
  {
   "cell_type": "code",
   "execution_count": null,
   "id": "202a9d80",
   "metadata": {},
   "outputs": [],
   "source": []
  },
  {
   "cell_type": "code",
   "execution_count": null,
   "id": "adf048b9",
   "metadata": {},
   "outputs": [],
   "source": [
    "a='1'"
   ]
  },
  {
   "cell_type": "code",
   "execution_count": 6,
   "id": "0cba8821",
   "metadata": {},
   "outputs": [
    {
     "data": {
      "text/plain": [
       "str"
      ]
     },
     "execution_count": 6,
     "metadata": {},
     "output_type": "execute_result"
    }
   ],
   "source": [
    "type(a)"
   ]
  },
  {
   "cell_type": "code",
   "execution_count": null,
   "id": "33b1e322",
   "metadata": {},
   "outputs": [],
   "source": [
    "a."
   ]
  },
  {
   "cell_type": "code",
   "execution_count": 12,
   "id": "b65a96f7",
   "metadata": {},
   "outputs": [],
   "source": [
    "b = True"
   ]
  },
  {
   "cell_type": "code",
   "execution_count": 10,
   "id": "e7ecef70",
   "metadata": {},
   "outputs": [
    {
     "data": {
      "text/plain": [
       "bool"
      ]
     },
     "execution_count": 10,
     "metadata": {},
     "output_type": "execute_result"
    }
   ],
   "source": [
    "type(b\n",
    ")"
   ]
  },
  {
   "cell_type": "code",
   "execution_count": null,
   "id": "9b41de0c",
   "metadata": {},
   "outputs": [],
   "source": [
    "b."
   ]
  },
  {
   "cell_type": "code",
   "execution_count": 13,
   "id": "27f518d6",
   "metadata": {},
   "outputs": [],
   "source": [
    "c = False"
   ]
  },
  {
   "cell_type": "code",
   "execution_count": 14,
   "id": "c308d5be",
   "metadata": {},
   "outputs": [
    {
     "data": {
      "text/plain": [
       "bool"
      ]
     },
     "execution_count": 14,
     "metadata": {},
     "output_type": "execute_result"
    }
   ],
   "source": [
    "type(c)"
   ]
  },
  {
   "cell_type": "code",
   "execution_count": 20,
   "id": "851fb546",
   "metadata": {},
   "outputs": [
    {
     "ename": "ZeroDivisionError",
     "evalue": "division by zero",
     "output_type": "error",
     "traceback": [
      "\u001b[0;31m---------------------------------------------------------------------------\u001b[0m",
      "\u001b[0;31mZeroDivisionError\u001b[0m                         Traceback (most recent call last)",
      "Input \u001b[0;32mIn [20]\u001b[0m, in \u001b[0;36m<cell line: 1>\u001b[0;34m()\u001b[0m\n\u001b[0;32m----> 1\u001b[0m \u001b[38;5;28;43;01mTrue\u001b[39;49;00m\u001b[43m \u001b[49m\u001b[38;5;241;43m/\u001b[39;49m\u001b[43m \u001b[49m\u001b[38;5;28;43;01mFalse\u001b[39;49;00m\n",
      "\u001b[0;31mZeroDivisionError\u001b[0m: division by zero"
     ]
    }
   ],
   "source": [
    "True / False"
   ]
  },
  {
   "cell_type": "code",
   "execution_count": 18,
   "id": "6d887bd5",
   "metadata": {},
   "outputs": [
    {
     "data": {
      "text/plain": [
       "0.0"
      ]
     },
     "execution_count": 18,
     "metadata": {},
     "output_type": "execute_result"
    }
   ],
   "source": [
    "False / True"
   ]
  },
  {
   "cell_type": "code",
   "execution_count": 31,
   "id": "a9891c0e",
   "metadata": {},
   "outputs": [],
   "source": [
    "m = 2"
   ]
  },
  {
   "cell_type": "code",
   "execution_count": null,
   "id": "27e1a712",
   "metadata": {},
   "outputs": [],
   "source": [
    "m."
   ]
  },
  {
   "cell_type": "code",
   "execution_count": 24,
   "id": "3f8f5787",
   "metadata": {},
   "outputs": [
    {
     "data": {
      "text/plain": [
       "float"
      ]
     },
     "execution_count": 24,
     "metadata": {},
     "output_type": "execute_result"
    }
   ],
   "source": [
    "type(m)"
   ]
  },
  {
   "cell_type": "code",
   "execution_count": 29,
   "id": "0ad9ad01",
   "metadata": {},
   "outputs": [],
   "source": [
    "o = 3-6j"
   ]
  },
  {
   "cell_type": "code",
   "execution_count": 30,
   "id": "e5d2c829",
   "metadata": {},
   "outputs": [
    {
     "data": {
      "text/plain": [
       "complex"
      ]
     },
     "execution_count": 30,
     "metadata": {},
     "output_type": "execute_result"
    }
   ],
   "source": [
    "type(o)"
   ]
  },
  {
   "cell_type": "code",
   "execution_count": 33,
   "id": "7522e73a",
   "metadata": {},
   "outputs": [
    {
     "data": {
      "text/plain": [
       "int"
      ]
     },
     "execution_count": 33,
     "metadata": {},
     "output_type": "execute_result"
    }
   ],
   "source": [
    "j = 9975\n",
    "type (j)"
   ]
  },
  {
   "cell_type": "code",
   "execution_count": 34,
   "id": "25e7234d",
   "metadata": {},
   "outputs": [
    {
     "data": {
      "text/plain": [
       "3.0"
      ]
     },
     "execution_count": 34,
     "metadata": {},
     "output_type": "execute_result"
    }
   ],
   "source": [
    "o.real"
   ]
  },
  {
   "cell_type": "code",
   "execution_count": 35,
   "id": "1439c4eb",
   "metadata": {},
   "outputs": [
    {
     "data": {
      "text/plain": [
       "-6.0"
      ]
     },
     "execution_count": 35,
     "metadata": {},
     "output_type": "execute_result"
    }
   ],
   "source": [
    "o.imag"
   ]
  },
  {
   "cell_type": "code",
   "execution_count": 36,
   "id": "103abd04",
   "metadata": {},
   "outputs": [
    {
     "data": {
      "text/plain": [
       "<function complex.conjugate>"
      ]
     },
     "execution_count": 36,
     "metadata": {},
     "output_type": "execute_result"
    }
   ],
   "source": [
    "o.conjugate"
   ]
  },
  {
   "cell_type": "code",
   "execution_count": 37,
   "id": "a92eb3d2",
   "metadata": {},
   "outputs": [],
   "source": [
    "x = 'Medha is a good girl. excellent 13th sep 1994'"
   ]
  },
  {
   "cell_type": "code",
   "execution_count": 45,
   "id": "03a4c2f8",
   "metadata": {},
   "outputs": [
    {
     "data": {
      "text/plain": [
       "str"
      ]
     },
     "execution_count": 45,
     "metadata": {},
     "output_type": "execute_result"
    }
   ],
   "source": [
    "type(x)"
   ]
  },
  {
   "cell_type": "code",
   "execution_count": 50,
   "id": "773c7528",
   "metadata": {},
   "outputs": [],
   "source": [
    "u = [3,4,5,8,9, 'medhu', True, 2+5j, 2.8456]"
   ]
  },
  {
   "cell_type": "code",
   "execution_count": 51,
   "id": "10612a47",
   "metadata": {},
   "outputs": [
    {
     "data": {
      "text/plain": [
       "list"
      ]
     },
     "execution_count": 51,
     "metadata": {},
     "output_type": "execute_result"
    }
   ],
   "source": [
    "type(u\n",
    "    )"
   ]
  },
  {
   "cell_type": "code",
   "execution_count": 49,
   "id": "ac3edc41",
   "metadata": {},
   "outputs": [
    {
     "data": {
      "text/plain": [
       "9"
      ]
     },
     "execution_count": 49,
     "metadata": {},
     "output_type": "execute_result"
    }
   ],
   "source": [
    "len(l\n",
    "   )"
   ]
  },
  {
   "cell_type": "code",
   "execution_count": 52,
   "id": "042ae718",
   "metadata": {},
   "outputs": [
    {
     "data": {
      "text/plain": [
       "4"
      ]
     },
     "execution_count": 52,
     "metadata": {},
     "output_type": "execute_result"
    }
   ],
   "source": [
    "u[1]"
   ]
  },
  {
   "cell_type": "code",
   "execution_count": 53,
   "id": "24764a7d",
   "metadata": {},
   "outputs": [
    {
     "data": {
      "text/plain": [
       "'medhu'"
      ]
     },
     "execution_count": 53,
     "metadata": {},
     "output_type": "execute_result"
    }
   ],
   "source": [
    " u[5]"
   ]
  },
  {
   "cell_type": "code",
   "execution_count": 54,
   "id": "8fb4660b",
   "metadata": {},
   "outputs": [
    {
     "data": {
      "text/plain": [
       "(2+5j)"
      ]
     },
     "execution_count": 54,
     "metadata": {},
     "output_type": "execute_result"
    }
   ],
   "source": [
    "u[7]"
   ]
  },
  {
   "cell_type": "code",
   "execution_count": 64,
   "id": "86943979",
   "metadata": {},
   "outputs": [],
   "source": [
    "s = (454, 55, 67, 'medha', 4.678, 78-9j, False)"
   ]
  },
  {
   "cell_type": "code",
   "execution_count": 65,
   "id": "af66ac0a",
   "metadata": {},
   "outputs": [
    {
     "data": {
      "text/plain": [
       "tuple"
      ]
     },
     "execution_count": 65,
     "metadata": {},
     "output_type": "execute_result"
    }
   ],
   "source": [
    "type(s)"
   ]
  },
  {
   "cell_type": "code",
   "execution_count": 62,
   "id": "6c689fb7",
   "metadata": {},
   "outputs": [],
   "source": [
    "r = {1.01: 'dhu', 'b': 5.87, 'c': \"kuchbhi\"}"
   ]
  },
  {
   "cell_type": "code",
   "execution_count": 63,
   "id": "ae755625",
   "metadata": {},
   "outputs": [
    {
     "data": {
      "text/plain": [
       "dict"
      ]
     },
     "execution_count": 63,
     "metadata": {},
     "output_type": "execute_result"
    }
   ],
   "source": [
    "type(r\n",
    ")"
   ]
  },
  {
   "cell_type": "code",
   "execution_count": 66,
   "id": "63bb38bd",
   "metadata": {},
   "outputs": [],
   "source": [
    "x = {346, 78+8j, False, 'medha', 56.987}"
   ]
  },
  {
   "cell_type": "code",
   "execution_count": 67,
   "id": "e79c6494",
   "metadata": {},
   "outputs": [
    {
     "data": {
      "text/plain": [
       "set"
      ]
     },
     "execution_count": 67,
     "metadata": {},
     "output_type": "execute_result"
    }
   ],
   "source": [
    "type(x)"
   ]
  },
  {
   "cell_type": "code",
   "execution_count": 68,
   "id": "9bdaeb16",
   "metadata": {},
   "outputs": [],
   "source": [
    "jj = [2,3,4,5, False, 'medha', 34-4j,34+5]"
   ]
  },
  {
   "cell_type": "code",
   "execution_count": 69,
   "id": "acb37003",
   "metadata": {},
   "outputs": [
    {
     "data": {
      "text/plain": [
       "list"
      ]
     },
     "execution_count": 69,
     "metadata": {},
     "output_type": "execute_result"
    }
   ],
   "source": [
    "type(jj)"
   ]
  },
  {
   "cell_type": "code",
   "execution_count": 70,
   "id": "1ae49a5a",
   "metadata": {},
   "outputs": [
    {
     "data": {
      "text/plain": [
       "[2, 3, 4, 5, False, 'medha', (34-4j), 39]"
      ]
     },
     "execution_count": 70,
     "metadata": {},
     "output_type": "execute_result"
    }
   ],
   "source": [
    "jj\n"
   ]
  },
  {
   "cell_type": "code",
   "execution_count": null,
   "id": "7456644b",
   "metadata": {},
   "outputs": [],
   "source": [
    "h = {}"
   ]
  },
  {
   "cell_type": "code",
   "execution_count": null,
   "id": "3e57d4d1",
   "metadata": {},
   "outputs": [],
   "source": [
    "s = \"this is My First Python programming class and i am learNING python string and its function\"\n",
    "1 . Try to extract data from index one to index 300 with a jump of 3 \n",
    "2. Try to reverse a string without using reverse function \n",
    "3. Try to split a string after conversion of entire string in uppercase \n",
    "4. try to convert the whole string into lower case \n",
    "5 . Try to capitalize the whole string \n",
    "6 . Write a diference between isalnum() and isalpha()\n",
    "7. Try to give an example of expand tab\n",
    "8 . Give an example of strip , lstrip and rstrip \n",
    "9.  Replace a string charecter by another charector by taking your own example \n",
    "\"sudhanshu\"\n",
    "10 . Try  to give a defination of string center function with and exmple \n",
    "11 . Write your own definition of compiler and interpretor without copy paste form internet in your own language\n",
    "12 . Python is a interpreted of compiled language give a clear ans with your understanding \n",
    "13 . Try to write a usecase of python with your understanding .\n",
    "\n",
    "\n",
    "you have to send a jupyter notebook to shivan@ineuron.ai before next saturday class 21st of may . \n"
   ]
  }
 ],
 "metadata": {
  "kernelspec": {
   "display_name": "Python 3 (ipykernel)",
   "language": "python",
   "name": "python3"
  },
  "language_info": {
   "codemirror_mode": {
    "name": "ipython",
    "version": 3
   },
   "file_extension": ".py",
   "mimetype": "text/x-python",
   "name": "python",
   "nbconvert_exporter": "python",
   "pygments_lexer": "ipython3",
   "version": "3.9.12"
  }
 },
 "nbformat": 4,
 "nbformat_minor": 5
}
